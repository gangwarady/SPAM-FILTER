{
  "nbformat": 4,
  "nbformat_minor": 0,
  "metadata": {
    "colab": {
      "name": "Spam_filter_2021CSM1001.ipynb",
      "provenance": [],
      "collapsed_sections": []
    },
    "kernelspec": {
      "name": "python3",
      "display_name": "Python 3"
    },
    "language_info": {
      "name": "python"
    }
  },
  "cells": [
    {
      "cell_type": "code",
      "metadata": {
        "id": "56dbv6j6BNnZ"
      },
      "source": [
        "#2021CSM1001\n",
        "#ADITYA SINGH GANGWAR"
      ],
      "execution_count": 54,
      "outputs": []
    },
    {
      "cell_type": "markdown",
      "metadata": {
        "id": "BscvEKj95gZl"
      },
      "source": [
       
      ]
    },
    {
      "cell_type": "markdown",
      "metadata": {
        "id": "Ge-TdoU27RL7"
      },
      "source": [
        "#Dataset\n",
        "\n",
        "###About the Dataset\n",
        "\n",
        "Dataset is available here (https://drive.google.com/file/d/1-DrTyeuoRFsvSUoNcQhtDUZjyk95hRRg/view?usp=sharing). <br> You have to download this dataset and upload it on your google drive. Read the csv file (present in above mentioned link) into dataframe in your code to proceed further.\n"
      ]
    },
    {
      "cell_type": "code",
      "metadata": {
        "id": "Wigei8vk5cX9",
        "colab": {
          "base_uri": "https://localhost:8080/"
        },
        "outputId": "6203cfc2-ea85-4528-ca12-1f904bb973ba"
      },
      "source": [
        "#google drive mounted here\n",
        "\n",
        "from google.colab import drive\n",
        "drive.mount('/content/drive')\n",
        "path=\"/content/drive/MyDrive/DataSet_Assignment6.csv\"\n",
        "\n",
        "#change the current working diectory path accordingly\n",
        "\n"
      ],
      "execution_count": 55,
      "outputs": [
        {
          "output_type": "stream",
          "name": "stdout",
          "text": [
            "Drive already mounted at /content/drive; to attempt to forcibly remount, call drive.mount(\"/content/drive\", force_remount=True).\n"
          ]
        }
      ]
    },
    {
      "cell_type": "code",
      "metadata": {
        "id": "DbwAGjom7tnh",
        "colab": {
          "base_uri": "https://localhost:8080/"
        },
        "outputId": "fccf60ff-db8a-4518-e5a8-ab0935f3d3e7"
      },
      "source": [
        "#Perform necessary imports here\n",
        "import pandas as pd\n",
        "import seaborn as sb\n",
        "import matplotlib.pyplot as pt\n",
        "import nltk\n",
        "from nltk.stem import PorterStemmer, WordNetLemmatizer\n",
        "nltk.download('punkt')\n",
        "nltk.download('wordnet')\n",
        "from sklearn.feature_extraction.text import TfidfVectorizer\n",
        "from imblearn.over_sampling import RandomOverSampler \n",
        "from collections import Counter\n",
        "from sklearn.model_selection import train_test_split\n",
        "import numpy as np\n",
        "from sklearn.metrics import confusion_matrix,accuracy_score,f1_score,classification_report\n",
        "from sklearn.naive_bayes import MultinomialNB\n",
        "from sklearn.tree import DecisionTreeClassifier\n",
        "from sklearn.svm import SVC\n",
        "from matplotlib import pyplot as plt\n",
        "\n"
      ],
      "execution_count": 56,
      "outputs": [
        {
          "output_type": "stream",
          "name": "stdout",
          "text": [
            "[nltk_data] Downloading package punkt to /root/nltk_data...\n",
            "[nltk_data]   Package punkt is already up-to-date!\n",
            "[nltk_data] Downloading package wordnet to /root/nltk_data...\n",
            "[nltk_data]   Package wordnet is already up-to-date!\n"
          ]
        }
      ]
    },
    {
      "cell_type": "markdown",
      "metadata": {
        "id": "a2vHQT2N8OHK"
      },
      "source": [
        "#**Section 1: ** \n",
        "\n",
        "1. Download and load the dataset in pandas dataframe .\n",
        "\n",
        "2. Display total number of rows and columns in dataset .\n",
        "\n",
        "3. Show the first 5 entries of the dataframe .\n",
        "\n",
        "4. Plot a bar graph showing number of spams and hams in dataset ."
      ]
    },
    {
      "cell_type": "code",
      "metadata": {
        "id": "S-1SNUJ5781U",
        "colab": {
          "base_uri": "https://localhost:8080/"
        },
        "outputId": "b912d45c-5af3-449b-9347-63c2447fa639"
      },
      "source": [
        "# Please insert your code here\n",
        "mydata = pd.read_csv(path)\n",
        "pd.set_option(\"display.max_colwidth\", -1) #to display entire line\n"
      ],
      "execution_count": 57,
      "outputs": [
        {
          "output_type": "stream",
          "name": "stderr",
          "text": [
            "/usr/local/lib/python3.7/dist-packages/ipykernel_launcher.py:3: FutureWarning: Passing a negative integer is deprecated in version 1.0 and will not be supported in future version. Instead, use None to not limit the column width.\n",
            "  This is separate from the ipykernel package so we can avoid doing imports until\n"
          ]
        }
      ]
    },
    {
      "cell_type": "code",
      "metadata": {
        "id": "kEpdri3Z9JVx",
        "colab": {
          "base_uri": "https://localhost:8080/"
        },
        "outputId": "2026b8f7-5e33-4e27-fe55-8255dd389023"
      },
      "source": [
        "# Please insert your code here\n",
        "mydata.describe\n"
      ],
      "execution_count": 58,
      "outputs": [
        {
          "output_type": "execute_result",
          "data": {
            "text/plain": [
              "<bound method NDFrame.describe of                                                                                                                                                                                                                                                                                                                                                                                                                                                                                                                                                                                                                                                                                                                                                                                                                                                                                                                                                                                                                                                                                                                                                                                                                                                                                                                                                                                                                                                                                                                                                                                                                                                                                                                                                                                                                                                                                                                                                                                                                                                                                                                                                                                                                                                                                                                                                                                                                              text  spam\n",
              "0     Subject: naturally irresistible your corporate identity  lt is really hard to recollect a company : the  market is full of suqgestions and the information isoverwhelminq ; but a good  catchy logo , stylish statlonery and outstanding website  will make the task much easier .  we do not promise that havinq ordered a iogo your  company will automaticaily become a world ieader : it isguite ciear that  without good products , effective business organization and practicable aim it  will be hotat nowadays market ; but we do promise that your marketing efforts  will become much more effective . here is the list of clear  benefits : creativeness : hand - made , original logos , specially done  to reflect your distinctive company image . convenience : logo and stationery  are provided in all formats ; easy - to - use content management system letsyou  change your website content and even its structure . promptness : you  will see logo drafts within three business days . affordability : your  marketing break - through shouldn ' t make gaps in your budget . 100 % satisfaction  guaranteed : we provide unlimited amount of changes with no extra fees for you to  be surethat you will love the result of this collaboration . have a look at our  portfolio _ _ _ _ _ _ _ _ _ _ _ _ _ _ _ _ _ _ _ _ _ _ _ _ _ _ _ _ _ _ _ _ _ _ _ _ _ _ _ _ _ _ _ _ _ _ _ _ _ _ _ _ not interested . . . _ _ _ _ _ _ _ _ _ _ _ _ _ _ _ _ _ _ _ _ _ _ _ _ _ _ _ _ _ _ _ _ _ _ _ _ _ _ _ _ _ _ _ _ _ _ _ _ _ _ _ _                                                                                                                                                                                                                                                                                                                                                                                                                                                                                                                                                                                                                                                                                                                                                                                                                                                                                 1   \n",
              "1     Subject: the stock trading gunslinger  fanny is merrill but muzo not colza attainder and penultimate like esmark perspicuous ramble is segovia not group try slung kansas tanzania yes chameleon or continuant clothesman no  libretto is chesapeake but tight not waterway herald and hawthorn like chisel morristown superior is deoxyribonucleic not clockwork try hall incredible mcdougall yes hepburn or einsteinian earmark no  sapling is boar but duane not plain palfrey and inflexible like huzzah pepperoni bedtime is nameable not attire try edt chronography optima yes pirogue or diffusion albeit no                                                                                                                                                                                                                                                                                                                                                                                                                                                                                                                                                                                                                                                                                                                                                                                                                                                                                                                                                                                                                                                                                                                                                                                                                                                                                                                                                                                                                                                                                                                                                                                                                                                                                                                                                                                                        1   \n",
              "2     Subject: unbelievable new homes made easy  im wanting to show you this  homeowner  you have been pre - approved for a $ 454 , 169 home loan at a 3 . 72 fixed rate .  this offer is being extended to you unconditionally and your credit is in no way a factor .  to take advantage of this limited time opportunity  all we ask is that you visit our website and complete  the 1 minute post approval form  look foward to hearing from you ,  dorcas pittman                                                                                                                                                                                                                                                                                                                                                                                                                                                                                                                                                                                                                                                                                                                                                                                                                                                                                                                                                                                                                                                                                                                                                                                                                                                                                                                                                                                                                                                                                                                                                                                                                                                                                                                                                                                                                                                                                                                                                             1   \n",
              "3     Subject: 4 color printing special  request additional information now ! click here  click here for a printable version of our order form ( pdf format )  phone : ( 626 ) 338 - 8090 fax : ( 626 ) 338 - 8102 e - mail : ramsey @ goldengraphix . com  request additional information now ! click here  click here for a printable version of our order form ( pdf format )  golden graphix & printing 5110 azusa canyon rd . irwindale , ca 91706 this e - mail message is an advertisement and / or solicitation .                                                                                                                                                                                                                                                                                                                                                                                                                                                                                                                                                                                                                                                                                                                                                                                                                                                                                                                                                                                                                                                                                                                                                                                                                                                                                                                                                                                                                                                                                                                                                                                                                                                                                                                                                                                                                                                                                                          1   \n",
              "4     Subject: do not have money , get software cds from here !  software compatibility . . . . ain ' t it great ?  grow old along with me the best is yet to be .  all tradgedies are finish ' d by death . all comedies are ended by marriage .                                                                                                                                                                                                                                                                                                                                                                                                                                                                                                                                                                                                                                                                                                                                                                                                                                                                                                                                                                                                                                                                                                                                                                                                                                                                                                                                                                                                                                                                                                                                                                                                                                                                                                                                                                                                                                                                                                                                                                                                                                                                                                                                                                                  1   \n",
              "...                                                                                                                                                                                                                                           ...                                                                                                                                                                                                                                                                                                                                                                                                                                                                                                                                                                                                                                                                                                                                                                                                                                                                                                                                                                                                                                                                                                                                                                                                                                                                                                                                                                                                                                                                                                                                                                                                                                                                                                                                                                                                                                                                                                                                                                                                                                                                                                                                                                                 ..   \n",
              "5703  Subject: re : research and development charges to gpg  here it is !  - - - - - - - - - - - - - - - - - - - - - - forwarded by shirley crenshaw / hou / ect on 08 / 14 / 2000  07 : 47 am - - - - - - - - - - - - - - - - - - - - - - - - - - -  vince j kaminski  08 / 10 / 2000 02 : 25 pm  to : vera apodaca / et & s / enron @ enron  cc : vince j kaminski / hou / ect @ ect , shirley crenshaw / hou / ect @ ect , pinnamaneni  krishnarao / hou / ect @ ect  subject : re : research and development charges to gpg  vera ,  we shall talk to the accounting group about the correction .  vince  08 / 09 / 2000 03 : 26 pm  vera apodaca @ enron  vera apodaca @ enron  vera apodaca @ enron  08 / 09 / 2000 03 : 26 pm  08 / 09 / 2000 03 : 26 pm  to : pinnamaneni krishnarao / hou / ect @ ect  cc : vince j kaminski / hou / ect @ ect  subject : research and development charges to gpg  per mail dated june 15 from kim watson , there was supposed to have occurred  a true - up of $ 274 . 7 in july for the fist six months of 2000 . reviewing july  actuals , i was not able to locate this entry . would you pls let me know  whether this entry was made , if not , when do you intend to process it .  thanks .                                                                                                                                                                                                                                                                                                                                                                                                                                                                                                                                                                                                                                                                                                                                                                                                                                                                                                                                                                                                                                                                                                                                                                                        0   \n",
              "5704  Subject: re : receipts from visit  jim ,  thanks again for the invitation to visit lsu .  shirley will fedex the receipts tomorrow .  vince  \" james r . garven \" on 02 / 08 / 2000 07 : 00 : 50 pm  to : vince j kaminski  cc :  subject : receipts from visit  dear vince ,  thanks again for taking the time to visit . ? both faculty and students got a  lot out of your presentations .  i have a favor to ask concerning the expense reimbursement process . ? can you  mail all travel and lodging receipts to my secretary joan payne at the  following address :  joan payne  department of finance  2163 ceba  louisiana state university  baton rouge , la ? 70803  thanks ,  jim garven  james r . garven  william h . wright , jr . endowed chair for financial services  department of finance  2158 ceba  e . j . ourso college of business administration  louisiana state university  baton rouge , la ? 70803 - 6308  voice ( 225 ) 388 - 0477 ? | ? fax : ( 800 ) 859 - 6361  e - mail : ? jgarven @ lsu . edu  home page : http : / / garven . lsu . edu  vita : http : / / garven . lsu . edu / dossier . html  research paper archive : http : / / garven . lsu . edu / research . html                                                                                                                                                                                                                                                                                                                                                                                                                                                                                                                                                                                                                                                                                                                                                                                                                                                                                                                                                                                                                                                                                                                                                                                                               0   \n",
              "5705  Subject: re : enron case study update  wow ! all on the same day . that ' s super . thank you so very much . vince  is coming up to baylor on monday of next week and we will hash out our  question list then .  thanks  john  at 04 : 54 pm 11 / 6 / 00 - 0600 , you wrote :  > good afternoon john ,  >  > i just want to drop you a line to update you re : andy fastow . i have  > confirmed a one hour interview slot with mr . fastow in monday , december 4 th  > from  > 11 : 00 a . m . - noon . this is in addition to your schedule interviews with  > mr . lay and mr . skilling - outline below .  >  > if you have any questions , please do not hesitate to contact me at  > 713 - 853 - 5670 .  >  > regards ,  >  > cindy  >  >  > - - - - - forwarded by cindy derecskey / corp / enron on 11 / 06 / 2000 04 : 49 pm - - - - -  >  > cindy  > derecskey to : \" john martin \"  > cc : vince j  kaminski / hou / ect @ ect , christie patrick / hou / ect @ ect  > 10 / 31 / 2000 subject : re : enron case  study ( document link : cindy derecskey )  > 01 : 44 pm  >  >  >  >  >  > good afternoon john ,  >  > i hope things are well with you . i am writing to update you on the status  > of your meetings with andy fastow , ken lay and jeff skilling . i have  > arranged the following meeting dates and times with ken lay and jeff  > skilling , ( i am still trying to work with andy fastow ' s schedule ) :  >  > jeff skilling  > december 4 th  > 2 : 00 - 3 : 00 p . m .  >  > ken lay  > december 4 th  > 3 : 30 - 4 : 30 p . m .  >  > also , i will attempt to schedule the meeting with andy fastow for december  > 4 th for convenience - this will also allow us to possibly schedule  > additional meetings for the 5 th ( as needed ) . i will let you know as soon  > as i ' m successful .  >  > regards ,  >  > cindy derecskey  > university affairs  > enron corp .  >  >  >  >  >  john d . martin  carr p . collins chair in finance  finance department  baylor university  po box 98004  waco , tx 76798  254 - 710 - 4473 ( office )  254 - 710 - 1092 ( fax )  j _ martin @ baylor . edu  web : http : / / hsb . baylor . edu / html / martinj / home . html                                                                                                                                                                                                          0   \n",
              "5706  Subject: re : interest  david ,  please , call shirley crenshaw ( my assistant ) ,  extension 5 - 5290 to set it up .  vince  david p dupre  06 / 15 / 2000 05 : 18 pm  to : vince j kaminski / hou / ect @ ect  cc :  subject : re : interest  what time ( s ) are you available over the next few days ?  thanks  david  3 - 3528  vince j kaminski  06 / 15 / 2000 05 : 16 pm  to : david p dupre / hou / ect @ ect  cc : vince j kaminski / hou / ect @ ect  subject : re : interest  david ,  please , stop by to chat about it for a few minutes .  vince  david p dupre  06 / 15 / 2000 11 : 57 am  to : vince j kaminski / hou / ect @ ect  cc :  subject : re : interest  may we meet to discuss my interest in joining your group ?  i have a strong quantitative discipline and am highly numerate .  thanks  david 3 - 3528  - - - - - - - - - - - - - - - - - - - - - - forwarded by david p dupre / hou / ect on 06 / 15 / 2000 11 : 53  am - - - - - - - - - - - - - - - - - - - - - - - - - - -  to : david p dupre / hou / ect @ ect  cc :  subject : re : interest  vince kaminski                                                                                                                                                                                                                                                                                                                                                                                                                                                                                                                                                                                                                                                                                                                                                                                                                                                                                                                                                                                                                                                                                                                                                                                                                                                                                                                         0   \n",
              "5707  Subject: news : aurora 5 . 2 update  aurora version 5 . 2  - the fastest model just got faster -  epis announces the release of aurora , version 5 . 2  aurora the electric market price forecasting tool is already  legendary for power and speed . we ' ve combined a powerful chronological  dispatch model with the capability to simulate the market from 1  day to 25 + years . add to that a risk analysis section , powered by user  selectable monte carlo & / or latin hypercube modeling , enough  portfolio analysis power to please the toughest critic , & inputs and  outputs from standard excel & access tables and you ' ve got one of most  powerful tools in the market .  just a few months ago we expanded our emissions modeling  capabilities , added our quarterly database update , increased the speed  of the entire model , and made  but that wasn ' t enough .  we ' ve done it again . some of the operations that we ' ve  included . . .  two new reporting enhancements .  the first is marginal reporting  for fuels , resources and groups of resources .  the second is the ability to  display resource stack information in graphical and dispatch order form .  other enhancements include dual fuel modeling , improved  transmission modeling , greater access to hourly results , and the ability  to model monthly emission rates . moreover , the databases for  central and eastern , texas , and western markets have been updated to use  the new modeling capabilities .  we continue to make aurora easier to use . this version enhances  user control over modeling , editing inputs , and viewing of aurora  output . clients desiring to exploit the power of aurora now have  greater control over the inputs and outputs through vb scripting in  aurora . the new \" update data \" capability provides a means to  universally change any data element .  attached is more information on the fastest and most flexible  tool of its kind .  for additional information , please visit our website ( www . epis . com ) or  contact our sales department at ( 503 ) 722 - 2023 . ask about our special  7 - day demo !  v . todd wheeler  sales manager  epis , inc .  ( 503 ) 722 - 2023 tel .  ( 503 ) 722 - 7130 fax  www . epis . com  todd @ epis . com  > >  - what ' s new - version 5 . 2 information . doc  - technical information aurora v 5 - 2 . doc  0   \n",
              "\n",
              "[5708 rows x 2 columns]>"
            ]
          },
          "metadata": {},
          "execution_count": 58
        }
      ]
    },
    {
      "cell_type": "code",
      "metadata": {
        "id": "Rco_Tn9a9Pxa",
        "colab": {
          "base_uri": "https://localhost:8080/"
        },
        "outputId": "33df4718-000a-4e89-90e8-56ee193f28e8"
      },
      "source": [
        "# Please insert your code here\n",
        "first5=mydata.head(5)\n",
        "print(first5)\n"
      ],
      "execution_count": 59,
      "outputs": [
        {
          "output_type": "stream",
          "name": "stdout",
          "text": [
            "                                                                                                                                                                                                                                                                                                                                                                                                                                                                                                                                                                                                                                                                                                                                                                                                                                                                                                                                                                                                                                                                                                                                                                                                                                                                                                                                                                                                                                                                                                                                           text  spam\n",
            "0  Subject: naturally irresistible your corporate identity  lt is really hard to recollect a company : the  market is full of suqgestions and the information isoverwhelminq ; but a good  catchy logo , stylish statlonery and outstanding website  will make the task much easier .  we do not promise that havinq ordered a iogo your  company will automaticaily become a world ieader : it isguite ciear that  without good products , effective business organization and practicable aim it  will be hotat nowadays market ; but we do promise that your marketing efforts  will become much more effective . here is the list of clear  benefits : creativeness : hand - made , original logos , specially done  to reflect your distinctive company image . convenience : logo and stationery  are provided in all formats ; easy - to - use content management system letsyou  change your website content and even its structure . promptness : you  will see logo drafts within three business days . affordability : your  marketing break - through shouldn ' t make gaps in your budget . 100 % satisfaction  guaranteed : we provide unlimited amount of changes with no extra fees for you to  be surethat you will love the result of this collaboration . have a look at our  portfolio _ _ _ _ _ _ _ _ _ _ _ _ _ _ _ _ _ _ _ _ _ _ _ _ _ _ _ _ _ _ _ _ _ _ _ _ _ _ _ _ _ _ _ _ _ _ _ _ _ _ _ _ not interested . . . _ _ _ _ _ _ _ _ _ _ _ _ _ _ _ _ _ _ _ _ _ _ _ _ _ _ _ _ _ _ _ _ _ _ _ _ _ _ _ _ _ _ _ _ _ _ _ _ _ _ _ _  1   \n",
            "1  Subject: the stock trading gunslinger  fanny is merrill but muzo not colza attainder and penultimate like esmark perspicuous ramble is segovia not group try slung kansas tanzania yes chameleon or continuant clothesman no  libretto is chesapeake but tight not waterway herald and hawthorn like chisel morristown superior is deoxyribonucleic not clockwork try hall incredible mcdougall yes hepburn or einsteinian earmark no  sapling is boar but duane not plain palfrey and inflexible like huzzah pepperoni bedtime is nameable not attire try edt chronography optima yes pirogue or diffusion albeit no                                                                                                                                                                                                                                                                                                                                                                                                                                                                                                                                                                                                                                                                                                                                                                                                                                                                                                                         1   \n",
            "2  Subject: unbelievable new homes made easy  im wanting to show you this  homeowner  you have been pre - approved for a $ 454 , 169 home loan at a 3 . 72 fixed rate .  this offer is being extended to you unconditionally and your credit is in no way a factor .  to take advantage of this limited time opportunity  all we ask is that you visit our website and complete  the 1 minute post approval form  look foward to hearing from you ,  dorcas pittman                                                                                                                                                                                                                                                                                                                                                                                                                                                                                                                                                                                                                                                                                                                                                                                                                                                                                                                                                                                                                                                                              1   \n",
            "3  Subject: 4 color printing special  request additional information now ! click here  click here for a printable version of our order form ( pdf format )  phone : ( 626 ) 338 - 8090 fax : ( 626 ) 338 - 8102 e - mail : ramsey @ goldengraphix . com  request additional information now ! click here  click here for a printable version of our order form ( pdf format )  golden graphix & printing 5110 azusa canyon rd . irwindale , ca 91706 this e - mail message is an advertisement and / or solicitation .                                                                                                                                                                                                                                                                                                                                                                                                                                                                                                                                                                                                                                                                                                                                                                                                                                                                                                                                                                                                                           1   \n",
            "4  Subject: do not have money , get software cds from here !  software compatibility . . . . ain ' t it great ?  grow old along with me the best is yet to be .  all tradgedies are finish ' d by death . all comedies are ended by marriage .                                                                                                                                                                                                                                                                                                                                                                                                                                                                                                                                                                                                                                                                                                                                                                                                                                                                                                                                                                                                                                                                                                                                                                                                                                                                                                   1   \n"
          ]
        }
      ]
    },
    {
      "cell_type": "code",
      "metadata": {
        "colab": {
          "base_uri": "https://localhost:8080/"
        },
        "id": "mtRQXHLCUJu0",
        "outputId": "b014a398-9254-4975-850a-a46e12aa765f"
      },
      "source": [
        "mydata.spam.value_counts() #No. of spam and not spam values"
      ],
      "execution_count": 60,
      "outputs": [
        {
          "output_type": "execute_result",
          "data": {
            "text/plain": [
              "0    4350\n",
              "1    1358\n",
              "Name: spam, dtype: int64"
            ]
          },
          "metadata": {},
          "execution_count": 60
        }
      ]
    },
    {
      "cell_type": "code",
      "metadata": {
        "id": "Nky_CVVa9Qfq",
        "colab": {
          "base_uri": "https://localhost:8080/",
          "height": 302
        },
        "outputId": "7272b3fb-51e2-4b0f-a55d-e00b42e1286d"
      },
      "source": [
        "# Please insert your code here\n",
        "sb.countplot(x=\"spam\",data=mydata,palette=\"husl\",lw=3,ec=\"black\",hatch=\"..\")\n"
      ],
      "execution_count": 61,
      "outputs": [
        {
          "output_type": "execute_result",
          "data": {
            "text/plain": [
              "<matplotlib.axes._subplots.AxesSubplot at 0x7f4b6c6f3f50>"
            ]
          },
          "metadata": {},
          "execution_count": 61
        },
        {
          "output_type": "display_data",
          "data": {
            "image/png": "[encoded data removed]",
            "text/plain": [
              "<Figure size 432x288 with 1 Axes>"
            ]
          },
          "metadata": {}
        }
      ]
    },
    {
      "cell_type": "markdown",
      "metadata": {
        "id": "NZjN0CLH9ghT"
      },
      "source": [
        "**Observations:**\n",
        "\n",
        "*We can see that more number of data belongs to class 0 i.e not spam & very less number of data belongs to class 1 i.e spam.*\n",
        "\n",
        "class[0]= 4350\n",
        "\n",
        "class[1]= 1358\n",
        "\n",
        "*So , therefore it is a imbalanced dataset. So this can give a biasedness towards class 0 which results in poor performance in predictiong class 1. So, we have to convert our imbalanced datset to balanced so that our classifiers can give an unbiased prediction.*"
      ]
    },
    {
      "cell_type": "markdown",
      "metadata": {
        "id": "wFEOToN1RRWR"
      },
      "source": [
        "#**Section 2: Preprocessing **"
      ]
    },
    {
      "cell_type": "markdown",
      "metadata": {
        "id": "TJP7OwuRBFX1"
      },
      "source": [
        "\n",
        "\n",
        "### Task 1 (10 points):\n",
        "1. Remove hyperlinks from text (2 points).\n",
        "2.Remove all the punctuations from the text in dataset .\n",
        "\n",
        "3.  Remove all numericals from text.\n",
        "\n",
        "4. Convert all text in lower case.\n",
        "\n",
        "5. Remove extra spaces from text.\n",
        "\n",
        "6. Display any five rows of your dataframe on which above five operation are implemented.\n",
        "\n"
      ]
    },
    {
      "cell_type": "code",
      "metadata": {
        "id": "k9zfEy_G90hz"
      },
      "source": [
        "# Please insert your code here\n",
        "mydata['text'] = mydata['text'].str.replace('http\\S+|www.\\S+', '', case=False) #Remove hyperlinks\n",
        "#case = false as it is case insensitive"
      ],
      "execution_count": 62,
      "outputs": []
    },
    {
      "cell_type": "code",
      "metadata": {
        "id": "ufpyOf0IRzf9"
      },
      "source": [
        "# Please insert your code here\n",
        "mydata['text'] = mydata['text'].str.replace('[^\\w\\s]+', '') #Remove Punctuations\n"
      ],
      "execution_count": 63,
      "outputs": []
    },
    {
      "cell_type": "code",
      "metadata": {
        "id": "YNSb3TJ5R0Hc"
      },
      "source": [
        "# Please insert your code here\n",
        "mydata['text'] = mydata['text'].str.replace('\\d+', '') #Remove numericals"
      ],
      "execution_count": 64,
      "outputs": []
    },
    {
      "cell_type": "code",
      "metadata": {
        "id": "CreDVKgp4g2Z"
      },
      "source": [
        "mydata['text'] = mydata['text'].str.lower() #Convert to lowercase"
      ],
      "execution_count": 65,
      "outputs": []
    },
    {
      "cell_type": "code",
      "metadata": {
        "id": "hirdBUEtpUIO"
      },
      "source": [
        "# Please insert your code here\n",
        "mydata['text'] = mydata['text'].str.replace('  ', ' ') #Remove extra spaces"
      ],
      "execution_count": 66,
      "outputs": []
    },
    {
      "cell_type": "code",
      "metadata": {
        "id": "pWoZFKU7pbVM",
        "colab": {
          "base_uri": "https://localhost:8080/"
        },
        "outputId": "1f76d72c-16ae-46a1-ed5b-72ec0efa775c"
      },
      "source": [
        "# Please insert your code here\n",
        "print(mydata['text'].head(5))"
      ],
      "execution_count": 67,
      "outputs": [
        {
          "output_type": "stream",
          "name": "stdout",
          "text": [
            "0    subject naturally irresistible your corporate identity lt is really hard to recollect a company the market is full of suqgestions and the information isoverwhelminq but a good catchy logo stylish statlonery and outstanding website will make the task much easier  we do not promise that havinq ordered a iogo your company will automaticaily become a world ieader it isguite ciear that without good products effective business organization and practicable aim it will be hotat nowadays market but we do promise that your marketing efforts will become much more effective here is the list of clear benefits creativeness hand made original logos specially done to reflect your distinctive company image convenience logo and stationery are provided in all formats easy to use content management system letsyou change your website content and even its structure promptness you will see logo drafts within three business days affordability your marketing break through shouldn t make gaps in your budget  satisfaction guaranteed we provide unlimited amount of changes with no extra fees for you to be surethat you will love the result of this collaboration have a look at our portfolio _ _ _ _ _ _ _ _ _ _ _ _ _ _ _ _ _ _ _ _ _ _ _ _ _ _ _ _ _ _ _ _ _ _ _ _ _ _ _ _ _ _ _ _ _ _ _ _ _ _ _ _ not interested  _ _ _ _ _ _ _ _ _ _ _ _ _ _ _ _ _ _ _ _ _ _ _ _ _ _ _ _ _ _ _ _ _ _ _ _ _ _ _ _ _ _ _ _ _ _ _ _ _ _ _ _\n",
            "1    subject the stock trading gunslinger fanny is merrill but muzo not colza attainder and penultimate like esmark perspicuous ramble is segovia not group try slung kansas tanzania yes chameleon or continuant clothesman no libretto is chesapeake but tight not waterway herald and hawthorn like chisel morristown superior is deoxyribonucleic not clockwork try hall incredible mcdougall yes hepburn or einsteinian earmark no sapling is boar but duane not plain palfrey and inflexible like huzzah pepperoni bedtime is nameable not attire try edt chronography optima yes pirogue or diffusion albeit no                                                                                                                                                                                                                                                                                                                                                                                                                                                                                                                                                                                                                                                                                                                                                                                                                                         \n",
            "2    subject unbelievable new homes made easy im wanting to show you this homeowner you have been pre approved for a   home loan at a  fixed rate  this offer is being extended to you unconditionally and your credit is in no way a factor  to take advantage of this limited time opportunity all we ask is that you visit our website and complete the minute post approval form look foward to hearing from you  dorcas pittman                                                                                                                                                                                                                                                                                                                                                                                                                                                                                                                                                                                                                                                                                                                                                                                                                                                                                                                                                                                                                           \n",
            "3    subject color printing special request additional information now click here click here for a printable version of our order form pdf format  phone    fax    e mail ramsey goldengraphix com request additional information now click here click here for a printable version of our order form pdf format  golden graphix printing azusa canyon rd irwindale ca this e mail message is an advertisement and or solicitation                                                                                                                                                                                                                                                                                                                                                                                                                                                                                                                                                                                                                                                                                                                                                                                                                                                                                                                                                                                                                             \n",
            "4    subject do not have money get software cds from here  software compatibility   ain t it great  grow old along with me the best is yet to be  all tradgedies are finish d by death all comedies are ended by marriage                                                                                                                                                                                                                                                                                                                                                                                                                                                                                                                                                                                                                                                                                                                                                                                                                                                                                                                                                                                                                                                                                                                                                                                                                                      \n",
            "Name: text, dtype: object\n"
          ]
        }
      ]
    },
    {
      "cell_type": "markdown",
      "metadata": {
        "id": "dXdrXRMt48Ji"
      },
      "source": [
        "*As we can see that first 5 sentences have changed after the 5 operations*"
      ]
    },
    {
      "cell_type": "markdown",
      "metadata": {
        "id": "wnwYN_MbQ5md"
      },
      "source": [
        "\n",
        "### Task 2 (Word Stemming and Word lemmatization) (5 points):\n",
        "\n",
        "\n",
        "\n",
        "**Word Stemming:** is a process of reducing a word to its word stem that affixes to suffixes and prefixes or to the roots of words known as a lemma.\n",
        "\n",
        "**Word lemmatization:** is a process of utilizing the dictionary of a particular language and trying to convert the words back to its base form.\n",
        "\n",
        "These techniques try to reduce the words to its most basic form.\n",
        "\n",
        "You have to convert the text using stemming and lemmatization  and display five random examples of the converted text.\n",
        "\n",
        "\n",
        "\n",
        "Hint: Implementation of these algorithms is available in nltk library."
      ]
    },
    {
      "cell_type": "code",
      "metadata": {
        "id": "8KrhcI_4Rwx6",
        "colab": {
          "base_uri": "https://localhost:8080/"
        },
        "outputId": "ccb83c28-cf85-41b6-d0a6-cfd0298bed5f"
      },
      "source": [
        "# Please insert your code here\n",
        "p=PorterStemmer()\n",
        "lemmi=WordNetLemmatizer()\n",
        "#mydata['text'].dropna(inplace=True)\n",
        "\n",
        "mydata['text']=mydata['text'].apply(lambda l : filter(None,l.split(\" \"))) #split words\n",
        "mydata['text']=mydata['text'].apply(lambda l : [p.stem(x) for x in l]) #Perform stemming\n",
        "mydata['text']=mydata['text'].apply(lambda l : [lemmi.lemmatize(x) for x in l]) #Perform lemmatization\n",
        "mydata['text']=mydata['text'].apply(lambda l : \" \".join(l)) #Join words to make them into sentences\n",
        "\n",
        "print(mydata['text'])\n"
      ],
      "execution_count": 68,
      "outputs": [
        {
          "output_type": "stream",
          "name": "stdout",
          "text": [
            "0       subject natur irresist your corpor ident lt is realli hard to recollect a compani the market is full of suqgest and the inform isoverwhelminq but a good catchi logo stylish statloneri and outstand websit will make the task much easier we do not promis that havinq order a iogo your compani will automaticaili becom a world ieader it isguit ciear that without good product effect busi organ and practic aim it will be hotat nowaday market but we do promis that your market effort will becom much more effect here is the list of clear benefit creativ hand made origin logo special done to reflect your distinct compani imag conveni logo and stationeri are provid in all format easi to use content manag system letsyou chang your websit content and even it structur prompt you will see logo draft within three busi day afford your market break through shouldn t make gap in your budget satisfact guarante we provid unlimit amount of chang with no extra fee for you to be surethat you will love the result of thi collabor have a look at our portfolio _ _ _ _ _ _ _ _ _ _ _ _ _ _ _ _ _ _ _ _ _ _ _ _ _ _ _ _ _ _ _ _ _ _ _ _ _ _ _ _ _ _ _ _ _ _ _ _ _ _ _ _ not interest _ _ _ _ _ _ _ _ _ _ _ _ _ _ _ _ _ _ _ _ _ _ _ _ _ _ _ _ _ _ _ _ _ _ _ _ _ _ _ _ _ _ _ _ _ _ _ _ _ _ _ _                                                                                                                                                                                                                                                                                                                                                                                                                                                                                                                                                 \n",
            "1       subject the stock trade gunsling fanni is merril but muzo not colza attaind and penultim like esmark perspicu rambl is segovia not group tri slung kansa tanzania ye chameleon or continu clothesman no libretto is chesapeak but tight not waterway herald and hawthorn like chisel morristown superior is deoxyribonucl not clockwork tri hall incred mcdougal ye hepburn or einsteinian earmark no sapl is boar but duan not plain palfrey and inflex like huzzah pepperoni bedtim is nameabl not attir tri edt chronographi optimum ye pirogu or diffus albeit no                                                                                                                                                                                                                                                                                                                                                                                                                                                                                                                                                                                                                                                                                                                                                                                                                                                                                                                                                                                                                                                                                                                                                                                                                                                                                               \n",
            "2       subject unbeliev new home made easi im want to show you thi homeown you have been pre approv for a home loan at a fix rate thi offer is be extend to you uncondit and your credit is in no way a factor to take advantag of thi limit time opportun all we ask is that you visit our websit and complet the minut post approv form look foward to hear from you dorca pittman                                                                                                                                                                                                                                                                                                                                                                                                                                                                                                                                                                                                                                                                                                                                                                                                                                                                                                                                                                                                                                                                                                                                                                                                                                                                                                                                                                                                                                                                                       \n",
            "3       subject color print special request addit inform now click here click here for a printabl version of our order form pdf format phone fax e mail ramsey goldengraphix com request addit inform now click here click here for a printabl version of our order form pdf format golden graphix print azusa canyon rd irwindal ca thi e mail messag is an advertis and or solicit                                                                                                                                                                                                                                                                                                                                                                                                                                                                                                                                                                                                                                                                                                                                                                                                                                                                                                                                                                                                                                                                                                                                                                                                                                                                                                                                                                                                                                                                                        \n",
            "4       subject do not have money get softwar cd from here softwar compat ain t it great grow old along with me the best is yet to be all tradgedi are finish d by death all comedi are end by marriag                                                                                                                                                                                                                                                                                                                                                                                                                                                                                                                                                                                                                                                                                                                                                                                                                                                                                                                                                                                                                                                                                                                                                                                                                                                                                                                                                                                                                                                                                                                                                                                                                                                                      \n",
            "                                                                                                     ...                                                                                                                                                                                                                                                                                                                                                                                                                                                                                                                                                                                                                                                                                                                                                                                                                                                                                                                                                                                                                                                                                                                                                                                                                                                                                                                                                                                                                                                                                                                                                                                                                                                                                                                                                                    \n",
            "5703    subject re research and develop charg to gpg here it is forward by shirley crenshaw hou ect on am vinc j kaminski pm to vera apodaca et s enron enron cc vinc j kaminski hou ect ect shirley crenshaw hou ect ect pinnamaneni krishnarao hou ect ect subject re research and develop charg to gpg vera we shall talk to the account group about the correct vinc pm vera apodaca enron vera apodaca enron vera apodaca enron pm pm to pinnamaneni krishnarao hou ect ect cc vinc j kaminski hou ect ect subject research and develop charg to gpg per mail date june from kim watson there wa suppos to have occur a true up of in juli for the fist six month of review juli actual i wa not abl to locat thi entri would you pl let me know whether thi entri wa made if not when do you intend to process it thank                                                                                                                                                                                                                                                                                                                                                                                                                                                                                                                                                                                                                                                                                                                                                                                                                                                                                                                                                                                                                                               \n",
            "5704    subject re receipt from visit jim thank again for the invit to visit lsu shirley will fedex the receipt tomorrow vinc jame r garven on pm to vinc j kaminski cc subject receipt from visit dear vinc thank again for take the time to visit both faculti and student got a lot out of your present i have a favor to ask concern the expens reimburs process can you mail all travel and lodg receipt to my secretari joan payn at the follow address joan payn depart of financ ceba louisiana state univers baton roug la thank jim garven jame r garven william h wright jr endow chair for financi servic depart of financ ceba e j ourso colleg of busi administr louisiana state univers baton roug la voic fax e mail jgarven lsu edu home page http garven lsu edu vita http garven lsu edu dossier html research paper archiv http garven lsu edu research html                                                                                                                                                                                                                                                                                                                                                                                                                                                                                                                                                                                                                                                                                                                                                                                                                                                                                                                                                                                            \n",
            "5705    subject re enron case studi updat wow all on the same day that s super thank you so veri much vinc is come up to baylor on monday of next week and we will hash out our question list then thank john at pm you wrote good afternoon john i just want to drop you a line to updat you re andi fastow i have confirm a one hour interview slot with mr fastow in monday decemb th from a m noon thi is in addit to your schedul interview with mr lay and mr skill outlin below if you have ani question plea do not hesit to contact me at regard cindi forward by cindi derecskey corp enron on pm cindi derecskey to john martin cc vinc j kaminski hou ect ect christi patrick hou ect ect subject re enron case studi document link cindi derecskey pm good afternoon john i hope thing are well with you i am write to updat you on the statu of your meet with andi fastow ken lay and jeff skill i have arrang the follow meet date and time with ken lay and jeff skill i am still tri to work with andi fastow s schedul jeff skill decemb th p m ken lay decemb th p m also i will attempt to schedul the meet with andi fastow for decemb th for conveni thi will also allow u to possibl schedul addit meet for the th a need i will let you know a soon a i m success regard cindi derecskey univers affair enron corp john d martin carr p collin chair in financ financ depart baylor univers po box waco tx offic fax j _ martin baylor edu web http hsb baylor edu html martinj home html                                                                                                                                                                                                                                                                                                                                                          \n",
            "5706    subject re interest david plea call shirley crenshaw my assist extens to set it up vinc david p dupr pm to vinc j kaminski hou ect ect cc subject re interest what time s are you avail over the next few day thank david vinc j kaminski pm to david p dupr hou ect ect cc vinc j kaminski hou ect ect subject re interest david plea stop by to chat about it for a few minut vinc david p dupr am to vinc j kaminski hou ect ect cc subject re interest may we meet to discus my interest in join your group i have a strong quantit disciplin and am highli numer thank david forward by david p dupr hou ect on am to david p dupr hou ect ect cc subject re interest vinc kaminski                                                                                                                                                                                                                                                                                                                                                                                                                                                                                                                                                                                                                                                                                                                                                                                                                                                                                                                                                                                                                                                                                                                                                                            \n",
            "5707    subject news aurora updat aurora version the fastest model just got faster epi announc the releas of aurora version aurora the electr market price forecast tool is alreadi legendari for power and speed we ve combin a power chronolog dispatch model with the capabl to simul the market from day to year add to that a risk analysi section power by user select mont carlo or latin hypercub model enough portfolio analysi power to plea the toughest critic input and output from standard excel access tabl and you ve got one of most power tool in the market just a few month ago we expand our emiss model capabl ad our quarterli databas updat increas the speed of the entir model and made but that wasn t enough we ve done it again some of the oper that we ve includ two new report enhanc the first is margin report for fuel resourc and group of resourc the second is the abil to display resourc stack inform in graphic and dispatch order form other enhanc includ dual fuel model improv transmiss model greater access to hourli result and the abil to model monthli emiss rate moreov the databas for central and eastern texa and western market have been updat to use the new model capabl we continu to make aurora easier to use thi version enhanc user control over model edit input and view of aurora output client desir to exploit the power of aurora now have greater control over the input and output through vb script in aurora the new updat data capabl provid a mean to univers chang ani data element attach is more inform on the fastest and most flexibl tool of it kind for addit inform plea visit our websit epi com or contact our sale depart at ask about our special day demo v todd wheeler sale manag epi inc tel fax epi com todd epi com what s new version inform doc technic inform aurora v doc\n",
            "Name: text, Length: 5708, dtype: object\n"
          ]
        }
      ]
    },
    {
      "cell_type": "markdown",
      "metadata": {
        "id": "IG7GBiHsh_pV"
      },
      "source": [
        "#**Section 3: Vectorization (5 points)**\n",
        "\n",
        "1. Convert text to numerical vectors (such as TF.IDF). You may use available library function for the same."
      ]
    },
    {
      "cell_type": "code",
      "metadata": {
        "id": "4zT1Qd_gijmo",
        "colab": {
          "base_uri": "https://localhost:8080/",
          "height": 437
        },
        "outputId": "bf7da296-f7d3-4467-8914-bfbc4f6d2abf"
      },
      "source": [
        "# Please insert your code here\n",
        "tfidf= TfidfVectorizer()\n",
        "mytfidf= tfidf.fit_transform(mydata['text'])\n",
        "mydatatfidf=pd.DataFrame(mytfidf.toarray(), columns=tfidf.get_feature_names())\n",
        "mydatatfidf"
      ],
      "execution_count": 69,
      "outputs": [
        {
          "output_type": "execute_result",
          "data": {
            "text/html": [
              "<div>\n",
              "<style scoped>\n",
              "    .dataframe tbody tr th:only-of-type {\n",
              "        vertical-align: middle;\n",
              "    }\n",
              "\n",
              "    .dataframe tbody tr th {\n",
              "        vertical-align: top;\n",
              "    }\n",
              "\n",
              "    .dataframe thead th {\n",
              "        text-align: right;\n",
              "    }\n",
              "</style>\n",
              "<table border=\"1\" class=\"dataframe\">\n",
              "  <thead>\n",
              "    <tr style=\"text-align: right;\">\n",
              "      <th></th>\n",
              "      <th>aa</th>\n",
              "      <th>aaa</th>\n",
              "      <th>aaaenerfax</th>\n",
              "      <th>aadedeji</th>\n",
              "      <th>aagraw</th>\n",
              "      <th>aal</th>\n",
              "      <th>aaldou</th>\n",
              "      <th>aaliyah</th>\n",
              "      <th>aall</th>\n",
              "      <th>aanalysi</th>\n",
              "      <th>aaron</th>\n",
              "      <th>ab</th>\n",
              "      <th>aba</th>\n",
              "      <th>abacha</th>\n",
              "      <th>abacu</th>\n",
              "      <th>abahi</th>\n",
              "      <th>abaixo</th>\n",
              "      <th>abandon</th>\n",
              "      <th>abargain</th>\n",
              "      <th>abarr</th>\n",
              "      <th>abattoir</th>\n",
              "      <th>abb</th>\n",
              "      <th>abba</th>\n",
              "      <th>abbestellen</th>\n",
              "      <th>abbott</th>\n",
              "      <th>abbrevi</th>\n",
              "      <th>abc</th>\n",
              "      <th>abcsearch</th>\n",
              "      <th>abdalla</th>\n",
              "      <th>abdallat</th>\n",
              "      <th>abdelnour</th>\n",
              "      <th>abdul</th>\n",
              "      <th>abdulla</th>\n",
              "      <th>abdullah</th>\n",
              "      <th>abei</th>\n",
              "      <th>abel</th>\n",
              "      <th>abello</th>\n",
              "      <th>aber</th>\n",
              "      <th>abernathi</th>\n",
              "      <th>abet</th>\n",
              "      <th>...</th>\n",
              "      <th>zosta</th>\n",
              "      <th>zostal</th>\n",
              "      <th>zou</th>\n",
              "      <th>zrobic</th>\n",
              "      <th>zrobilem</th>\n",
              "      <th>zt</th>\n",
              "      <th>ztvwo</th>\n",
              "      <th>zu</th>\n",
              "      <th>zucha</th>\n",
              "      <th>zuerich</th>\n",
              "      <th>zufferli</th>\n",
              "      <th>zuid</th>\n",
              "      <th>zuli</th>\n",
              "      <th>zulkifli</th>\n",
              "      <th>zum</th>\n",
              "      <th>zuma</th>\n",
              "      <th>zunaechst</th>\n",
              "      <th>zunf</th>\n",
              "      <th>zungenakrobatik</th>\n",
              "      <th>zur</th>\n",
              "      <th>zurich</th>\n",
              "      <th>zusaetzlich</th>\n",
              "      <th>zustellstatu</th>\n",
              "      <th>zuyw</th>\n",
              "      <th>zuzana</th>\n",
              "      <th>zwabic</th>\n",
              "      <th>zwischen</th>\n",
              "      <th>zwlaszcza</th>\n",
              "      <th>zwrocic</th>\n",
              "      <th>zwwyw</th>\n",
              "      <th>zwzm</th>\n",
              "      <th>zxghlajf</th>\n",
              "      <th>zyban</th>\n",
              "      <th>zyc</th>\n",
              "      <th>zygoma</th>\n",
              "      <th>zymg</th>\n",
              "      <th>zzmacmac</th>\n",
              "      <th>zzn</th>\n",
              "      <th>zzncacst</th>\n",
              "      <th>zzzz</th>\n",
              "    </tr>\n",
              "  </thead>\n",
              "  <tbody>\n",
              "    <tr>\n",
              "      <th>0</th>\n",
              "      <td>0.0</td>\n",
              "      <td>0.0</td>\n",
              "      <td>0.0</td>\n",
              "      <td>0.0</td>\n",
              "      <td>0.0</td>\n",
              "      <td>0.0</td>\n",
              "      <td>0.0</td>\n",
              "      <td>0.0</td>\n",
              "      <td>0.0</td>\n",
              "      <td>0.0</td>\n",
              "      <td>0.0</td>\n",
              "      <td>0.0</td>\n",
              "      <td>0.0</td>\n",
              "      <td>0.0</td>\n",
              "      <td>0.0</td>\n",
              "      <td>0.0</td>\n",
              "      <td>0.0</td>\n",
              "      <td>0.0</td>\n",
              "      <td>0.0</td>\n",
              "      <td>0.0</td>\n",
              "      <td>0.0</td>\n",
              "      <td>0.0</td>\n",
              "      <td>0.0</td>\n",
              "      <td>0.0</td>\n",
              "      <td>0.0</td>\n",
              "      <td>0.0</td>\n",
              "      <td>0.0</td>\n",
              "      <td>0.0</td>\n",
              "      <td>0.0</td>\n",
              "      <td>0.0</td>\n",
              "      <td>0.0</td>\n",
              "      <td>0.0</td>\n",
              "      <td>0.0</td>\n",
              "      <td>0.0</td>\n",
              "      <td>0.0</td>\n",
              "      <td>0.0</td>\n",
              "      <td>0.0</td>\n",
              "      <td>0.0</td>\n",
              "      <td>0.0</td>\n",
              "      <td>0.0</td>\n",
              "      <td>...</td>\n",
              "      <td>0.0</td>\n",
              "      <td>0.0</td>\n",
              "      <td>0.0</td>\n",
              "      <td>0.0</td>\n",
              "      <td>0.0</td>\n",
              "      <td>0.0</td>\n",
              "      <td>0.0</td>\n",
              "      <td>0.0</td>\n",
              "      <td>0.0</td>\n",
              "      <td>0.0</td>\n",
              "      <td>0.0</td>\n",
              "      <td>0.0</td>\n",
              "      <td>0.0</td>\n",
              "      <td>0.0</td>\n",
              "      <td>0.0</td>\n",
              "      <td>0.0</td>\n",
              "      <td>0.0</td>\n",
              "      <td>0.0</td>\n",
              "      <td>0.0</td>\n",
              "      <td>0.0</td>\n",
              "      <td>0.0</td>\n",
              "      <td>0.0</td>\n",
              "      <td>0.0</td>\n",
              "      <td>0.0</td>\n",
              "      <td>0.0</td>\n",
              "      <td>0.0</td>\n",
              "      <td>0.0</td>\n",
              "      <td>0.0</td>\n",
              "      <td>0.0</td>\n",
              "      <td>0.0</td>\n",
              "      <td>0.0</td>\n",
              "      <td>0.0</td>\n",
              "      <td>0.0</td>\n",
              "      <td>0.0</td>\n",
              "      <td>0.0</td>\n",
              "      <td>0.0</td>\n",
              "      <td>0.0</td>\n",
              "      <td>0.0</td>\n",
              "      <td>0.0</td>\n",
              "      <td>0.0</td>\n",
              "    </tr>\n",
              "    <tr>\n",
              "      <th>1</th>\n",
              "      <td>0.0</td>\n",
              "      <td>0.0</td>\n",
              "      <td>0.0</td>\n",
              "      <td>0.0</td>\n",
              "      <td>0.0</td>\n",
              "      <td>0.0</td>\n",
              "      <td>0.0</td>\n",
              "      <td>0.0</td>\n",
              "      <td>0.0</td>\n",
              "      <td>0.0</td>\n",
              "      <td>0.0</td>\n",
              "      <td>0.0</td>\n",
              "      <td>0.0</td>\n",
              "      <td>0.0</td>\n",
              "      <td>0.0</td>\n",
              "      <td>0.0</td>\n",
              "      <td>0.0</td>\n",
              "      <td>0.0</td>\n",
              "      <td>0.0</td>\n",
              "      <td>0.0</td>\n",
              "      <td>0.0</td>\n",
              "      <td>0.0</td>\n",
              "      <td>0.0</td>\n",
              "      <td>0.0</td>\n",
              "      <td>0.0</td>\n",
              "      <td>0.0</td>\n",
              "      <td>0.0</td>\n",
              "      <td>0.0</td>\n",
              "      <td>0.0</td>\n",
              "      <td>0.0</td>\n",
              "      <td>0.0</td>\n",
              "      <td>0.0</td>\n",
              "      <td>0.0</td>\n",
              "      <td>0.0</td>\n",
              "      <td>0.0</td>\n",
              "      <td>0.0</td>\n",
              "      <td>0.0</td>\n",
              "      <td>0.0</td>\n",
              "      <td>0.0</td>\n",
              "      <td>0.0</td>\n",
              "      <td>...</td>\n",
              "      <td>0.0</td>\n",
              "      <td>0.0</td>\n",
              "      <td>0.0</td>\n",
              "      <td>0.0</td>\n",
              "      <td>0.0</td>\n",
              "      <td>0.0</td>\n",
              "      <td>0.0</td>\n",
              "      <td>0.0</td>\n",
              "      <td>0.0</td>\n",
              "      <td>0.0</td>\n",
              "      <td>0.0</td>\n",
              "      <td>0.0</td>\n",
              "      <td>0.0</td>\n",
              "      <td>0.0</td>\n",
              "      <td>0.0</td>\n",
              "      <td>0.0</td>\n",
              "      <td>0.0</td>\n",
              "      <td>0.0</td>\n",
              "      <td>0.0</td>\n",
              "      <td>0.0</td>\n",
              "      <td>0.0</td>\n",
              "      <td>0.0</td>\n",
              "      <td>0.0</td>\n",
              "      <td>0.0</td>\n",
              "      <td>0.0</td>\n",
              "      <td>0.0</td>\n",
              "      <td>0.0</td>\n",
              "      <td>0.0</td>\n",
              "      <td>0.0</td>\n",
              "      <td>0.0</td>\n",
              "      <td>0.0</td>\n",
              "      <td>0.0</td>\n",
              "      <td>0.0</td>\n",
              "      <td>0.0</td>\n",
              "      <td>0.0</td>\n",
              "      <td>0.0</td>\n",
              "      <td>0.0</td>\n",
              "      <td>0.0</td>\n",
              "      <td>0.0</td>\n",
              "      <td>0.0</td>\n",
              "    </tr>\n",
              "    <tr>\n",
              "      <th>2</th>\n",
              "      <td>0.0</td>\n",
              "      <td>0.0</td>\n",
              "      <td>0.0</td>\n",
              "      <td>0.0</td>\n",
              "      <td>0.0</td>\n",
              "      <td>0.0</td>\n",
              "      <td>0.0</td>\n",
              "      <td>0.0</td>\n",
              "      <td>0.0</td>\n",
              "      <td>0.0</td>\n",
              "      <td>0.0</td>\n",
              "      <td>0.0</td>\n",
              "      <td>0.0</td>\n",
              "      <td>0.0</td>\n",
              "      <td>0.0</td>\n",
              "      <td>0.0</td>\n",
              "      <td>0.0</td>\n",
              "      <td>0.0</td>\n",
              "      <td>0.0</td>\n",
              "      <td>0.0</td>\n",
              "      <td>0.0</td>\n",
              "      <td>0.0</td>\n",
              "      <td>0.0</td>\n",
              "      <td>0.0</td>\n",
              "      <td>0.0</td>\n",
              "      <td>0.0</td>\n",
              "      <td>0.0</td>\n",
              "      <td>0.0</td>\n",
              "      <td>0.0</td>\n",
              "      <td>0.0</td>\n",
              "      <td>0.0</td>\n",
              "      <td>0.0</td>\n",
              "      <td>0.0</td>\n",
              "      <td>0.0</td>\n",
              "      <td>0.0</td>\n",
              "      <td>0.0</td>\n",
              "      <td>0.0</td>\n",
              "      <td>0.0</td>\n",
              "      <td>0.0</td>\n",
              "      <td>0.0</td>\n",
              "      <td>...</td>\n",
              "      <td>0.0</td>\n",
              "      <td>0.0</td>\n",
              "      <td>0.0</td>\n",
              "      <td>0.0</td>\n",
              "      <td>0.0</td>\n",
              "      <td>0.0</td>\n",
              "      <td>0.0</td>\n",
              "      <td>0.0</td>\n",
              "      <td>0.0</td>\n",
              "      <td>0.0</td>\n",
              "      <td>0.0</td>\n",
              "      <td>0.0</td>\n",
              "      <td>0.0</td>\n",
              "      <td>0.0</td>\n",
              "      <td>0.0</td>\n",
              "      <td>0.0</td>\n",
              "      <td>0.0</td>\n",
              "      <td>0.0</td>\n",
              "      <td>0.0</td>\n",
              "      <td>0.0</td>\n",
              "      <td>0.0</td>\n",
              "      <td>0.0</td>\n",
              "      <td>0.0</td>\n",
              "      <td>0.0</td>\n",
              "      <td>0.0</td>\n",
              "      <td>0.0</td>\n",
              "      <td>0.0</td>\n",
              "      <td>0.0</td>\n",
              "      <td>0.0</td>\n",
              "      <td>0.0</td>\n",
              "      <td>0.0</td>\n",
              "      <td>0.0</td>\n",
              "      <td>0.0</td>\n",
              "      <td>0.0</td>\n",
              "      <td>0.0</td>\n",
              "      <td>0.0</td>\n",
              "      <td>0.0</td>\n",
              "      <td>0.0</td>\n",
              "      <td>0.0</td>\n",
              "      <td>0.0</td>\n",
              "    </tr>\n",
              "    <tr>\n",
              "      <th>3</th>\n",
              "      <td>0.0</td>\n",
              "      <td>0.0</td>\n",
              "      <td>0.0</td>\n",
              "      <td>0.0</td>\n",
              "      <td>0.0</td>\n",
              "      <td>0.0</td>\n",
              "      <td>0.0</td>\n",
              "      <td>0.0</td>\n",
              "      <td>0.0</td>\n",
              "      <td>0.0</td>\n",
              "      <td>0.0</td>\n",
              "      <td>0.0</td>\n",
              "      <td>0.0</td>\n",
              "      <td>0.0</td>\n",
              "      <td>0.0</td>\n",
              "      <td>0.0</td>\n",
              "      <td>0.0</td>\n",
              "      <td>0.0</td>\n",
              "      <td>0.0</td>\n",
              "      <td>0.0</td>\n",
              "      <td>0.0</td>\n",
              "      <td>0.0</td>\n",
              "      <td>0.0</td>\n",
              "      <td>0.0</td>\n",
              "      <td>0.0</td>\n",
              "      <td>0.0</td>\n",
              "      <td>0.0</td>\n",
              "      <td>0.0</td>\n",
              "      <td>0.0</td>\n",
              "      <td>0.0</td>\n",
              "      <td>0.0</td>\n",
              "      <td>0.0</td>\n",
              "      <td>0.0</td>\n",
              "      <td>0.0</td>\n",
              "      <td>0.0</td>\n",
              "      <td>0.0</td>\n",
              "      <td>0.0</td>\n",
              "      <td>0.0</td>\n",
              "      <td>0.0</td>\n",
              "      <td>0.0</td>\n",
              "      <td>...</td>\n",
              "      <td>0.0</td>\n",
              "      <td>0.0</td>\n",
              "      <td>0.0</td>\n",
              "      <td>0.0</td>\n",
              "      <td>0.0</td>\n",
              "      <td>0.0</td>\n",
              "      <td>0.0</td>\n",
              "      <td>0.0</td>\n",
              "      <td>0.0</td>\n",
              "      <td>0.0</td>\n",
              "      <td>0.0</td>\n",
              "      <td>0.0</td>\n",
              "      <td>0.0</td>\n",
              "      <td>0.0</td>\n",
              "      <td>0.0</td>\n",
              "      <td>0.0</td>\n",
              "      <td>0.0</td>\n",
              "      <td>0.0</td>\n",
              "      <td>0.0</td>\n",
              "      <td>0.0</td>\n",
              "      <td>0.0</td>\n",
              "      <td>0.0</td>\n",
              "      <td>0.0</td>\n",
              "      <td>0.0</td>\n",
              "      <td>0.0</td>\n",
              "      <td>0.0</td>\n",
              "      <td>0.0</td>\n",
              "      <td>0.0</td>\n",
              "      <td>0.0</td>\n",
              "      <td>0.0</td>\n",
              "      <td>0.0</td>\n",
              "      <td>0.0</td>\n",
              "      <td>0.0</td>\n",
              "      <td>0.0</td>\n",
              "      <td>0.0</td>\n",
              "      <td>0.0</td>\n",
              "      <td>0.0</td>\n",
              "      <td>0.0</td>\n",
              "      <td>0.0</td>\n",
              "      <td>0.0</td>\n",
              "    </tr>\n",
              "    <tr>\n",
              "      <th>4</th>\n",
              "      <td>0.0</td>\n",
              "      <td>0.0</td>\n",
              "      <td>0.0</td>\n",
              "      <td>0.0</td>\n",
              "      <td>0.0</td>\n",
              "      <td>0.0</td>\n",
              "      <td>0.0</td>\n",
              "      <td>0.0</td>\n",
              "      <td>0.0</td>\n",
              "      <td>0.0</td>\n",
              "      <td>0.0</td>\n",
              "      <td>0.0</td>\n",
              "      <td>0.0</td>\n",
              "      <td>0.0</td>\n",
              "      <td>0.0</td>\n",
              "      <td>0.0</td>\n",
              "      <td>0.0</td>\n",
              "      <td>0.0</td>\n",
              "      <td>0.0</td>\n",
              "      <td>0.0</td>\n",
              "      <td>0.0</td>\n",
              "      <td>0.0</td>\n",
              "      <td>0.0</td>\n",
              "      <td>0.0</td>\n",
              "      <td>0.0</td>\n",
              "      <td>0.0</td>\n",
              "      <td>0.0</td>\n",
              "      <td>0.0</td>\n",
              "      <td>0.0</td>\n",
              "      <td>0.0</td>\n",
              "      <td>0.0</td>\n",
              "      <td>0.0</td>\n",
              "      <td>0.0</td>\n",
              "      <td>0.0</td>\n",
              "      <td>0.0</td>\n",
              "      <td>0.0</td>\n",
              "      <td>0.0</td>\n",
              "      <td>0.0</td>\n",
              "      <td>0.0</td>\n",
              "      <td>0.0</td>\n",
              "      <td>...</td>\n",
              "      <td>0.0</td>\n",
              "      <td>0.0</td>\n",
              "      <td>0.0</td>\n",
              "      <td>0.0</td>\n",
              "      <td>0.0</td>\n",
              "      <td>0.0</td>\n",
              "      <td>0.0</td>\n",
              "      <td>0.0</td>\n",
              "      <td>0.0</td>\n",
              "      <td>0.0</td>\n",
              "      <td>0.0</td>\n",
              "      <td>0.0</td>\n",
              "      <td>0.0</td>\n",
              "      <td>0.0</td>\n",
              "      <td>0.0</td>\n",
              "      <td>0.0</td>\n",
              "      <td>0.0</td>\n",
              "      <td>0.0</td>\n",
              "      <td>0.0</td>\n",
              "      <td>0.0</td>\n",
              "      <td>0.0</td>\n",
              "      <td>0.0</td>\n",
              "      <td>0.0</td>\n",
              "      <td>0.0</td>\n",
              "      <td>0.0</td>\n",
              "      <td>0.0</td>\n",
              "      <td>0.0</td>\n",
              "      <td>0.0</td>\n",
              "      <td>0.0</td>\n",
              "      <td>0.0</td>\n",
              "      <td>0.0</td>\n",
              "      <td>0.0</td>\n",
              "      <td>0.0</td>\n",
              "      <td>0.0</td>\n",
              "      <td>0.0</td>\n",
              "      <td>0.0</td>\n",
              "      <td>0.0</td>\n",
              "      <td>0.0</td>\n",
              "      <td>0.0</td>\n",
              "      <td>0.0</td>\n",
              "    </tr>\n",
              "    <tr>\n",
              "      <th>...</th>\n",
              "      <td>...</td>\n",
              "      <td>...</td>\n",
              "      <td>...</td>\n",
              "      <td>...</td>\n",
              "      <td>...</td>\n",
              "      <td>...</td>\n",
              "      <td>...</td>\n",
              "      <td>...</td>\n",
              "      <td>...</td>\n",
              "      <td>...</td>\n",
              "      <td>...</td>\n",
              "      <td>...</td>\n",
              "      <td>...</td>\n",
              "      <td>...</td>\n",
              "      <td>...</td>\n",
              "      <td>...</td>\n",
              "      <td>...</td>\n",
              "      <td>...</td>\n",
              "      <td>...</td>\n",
              "      <td>...</td>\n",
              "      <td>...</td>\n",
              "      <td>...</td>\n",
              "      <td>...</td>\n",
              "      <td>...</td>\n",
              "      <td>...</td>\n",
              "      <td>...</td>\n",
              "      <td>...</td>\n",
              "      <td>...</td>\n",
              "      <td>...</td>\n",
              "      <td>...</td>\n",
              "      <td>...</td>\n",
              "      <td>...</td>\n",
              "      <td>...</td>\n",
              "      <td>...</td>\n",
              "      <td>...</td>\n",
              "      <td>...</td>\n",
              "      <td>...</td>\n",
              "      <td>...</td>\n",
              "      <td>...</td>\n",
              "      <td>...</td>\n",
              "      <td>...</td>\n",
              "      <td>...</td>\n",
              "      <td>...</td>\n",
              "      <td>...</td>\n",
              "      <td>...</td>\n",
              "      <td>...</td>\n",
              "      <td>...</td>\n",
              "      <td>...</td>\n",
              "      <td>...</td>\n",
              "      <td>...</td>\n",
              "      <td>...</td>\n",
              "      <td>...</td>\n",
              "      <td>...</td>\n",
              "      <td>...</td>\n",
              "      <td>...</td>\n",
              "      <td>...</td>\n",
              "      <td>...</td>\n",
              "      <td>...</td>\n",
              "      <td>...</td>\n",
              "      <td>...</td>\n",
              "      <td>...</td>\n",
              "      <td>...</td>\n",
              "      <td>...</td>\n",
              "      <td>...</td>\n",
              "      <td>...</td>\n",
              "      <td>...</td>\n",
              "      <td>...</td>\n",
              "      <td>...</td>\n",
              "      <td>...</td>\n",
              "      <td>...</td>\n",
              "      <td>...</td>\n",
              "      <td>...</td>\n",
              "      <td>...</td>\n",
              "      <td>...</td>\n",
              "      <td>...</td>\n",
              "      <td>...</td>\n",
              "      <td>...</td>\n",
              "      <td>...</td>\n",
              "      <td>...</td>\n",
              "      <td>...</td>\n",
              "      <td>...</td>\n",
              "    </tr>\n",
              "    <tr>\n",
              "      <th>5703</th>\n",
              "      <td>0.0</td>\n",
              "      <td>0.0</td>\n",
              "      <td>0.0</td>\n",
              "      <td>0.0</td>\n",
              "      <td>0.0</td>\n",
              "      <td>0.0</td>\n",
              "      <td>0.0</td>\n",
              "      <td>0.0</td>\n",
              "      <td>0.0</td>\n",
              "      <td>0.0</td>\n",
              "      <td>0.0</td>\n",
              "      <td>0.0</td>\n",
              "      <td>0.0</td>\n",
              "      <td>0.0</td>\n",
              "      <td>0.0</td>\n",
              "      <td>0.0</td>\n",
              "      <td>0.0</td>\n",
              "      <td>0.0</td>\n",
              "      <td>0.0</td>\n",
              "      <td>0.0</td>\n",
              "      <td>0.0</td>\n",
              "      <td>0.0</td>\n",
              "      <td>0.0</td>\n",
              "      <td>0.0</td>\n",
              "      <td>0.0</td>\n",
              "      <td>0.0</td>\n",
              "      <td>0.0</td>\n",
              "      <td>0.0</td>\n",
              "      <td>0.0</td>\n",
              "      <td>0.0</td>\n",
              "      <td>0.0</td>\n",
              "      <td>0.0</td>\n",
              "      <td>0.0</td>\n",
              "      <td>0.0</td>\n",
              "      <td>0.0</td>\n",
              "      <td>0.0</td>\n",
              "      <td>0.0</td>\n",
              "      <td>0.0</td>\n",
              "      <td>0.0</td>\n",
              "      <td>0.0</td>\n",
              "      <td>...</td>\n",
              "      <td>0.0</td>\n",
              "      <td>0.0</td>\n",
              "      <td>0.0</td>\n",
              "      <td>0.0</td>\n",
              "      <td>0.0</td>\n",
              "      <td>0.0</td>\n",
              "      <td>0.0</td>\n",
              "      <td>0.0</td>\n",
              "      <td>0.0</td>\n",
              "      <td>0.0</td>\n",
              "      <td>0.0</td>\n",
              "      <td>0.0</td>\n",
              "      <td>0.0</td>\n",
              "      <td>0.0</td>\n",
              "      <td>0.0</td>\n",
              "      <td>0.0</td>\n",
              "      <td>0.0</td>\n",
              "      <td>0.0</td>\n",
              "      <td>0.0</td>\n",
              "      <td>0.0</td>\n",
              "      <td>0.0</td>\n",
              "      <td>0.0</td>\n",
              "      <td>0.0</td>\n",
              "      <td>0.0</td>\n",
              "      <td>0.0</td>\n",
              "      <td>0.0</td>\n",
              "      <td>0.0</td>\n",
              "      <td>0.0</td>\n",
              "      <td>0.0</td>\n",
              "      <td>0.0</td>\n",
              "      <td>0.0</td>\n",
              "      <td>0.0</td>\n",
              "      <td>0.0</td>\n",
              "      <td>0.0</td>\n",
              "      <td>0.0</td>\n",
              "      <td>0.0</td>\n",
              "      <td>0.0</td>\n",
              "      <td>0.0</td>\n",
              "      <td>0.0</td>\n",
              "      <td>0.0</td>\n",
              "    </tr>\n",
              "    <tr>\n",
              "      <th>5704</th>\n",
              "      <td>0.0</td>\n",
              "      <td>0.0</td>\n",
              "      <td>0.0</td>\n",
              "      <td>0.0</td>\n",
              "      <td>0.0</td>\n",
              "      <td>0.0</td>\n",
              "      <td>0.0</td>\n",
              "      <td>0.0</td>\n",
              "      <td>0.0</td>\n",
              "      <td>0.0</td>\n",
              "      <td>0.0</td>\n",
              "      <td>0.0</td>\n",
              "      <td>0.0</td>\n",
              "      <td>0.0</td>\n",
              "      <td>0.0</td>\n",
              "      <td>0.0</td>\n",
              "      <td>0.0</td>\n",
              "      <td>0.0</td>\n",
              "      <td>0.0</td>\n",
              "      <td>0.0</td>\n",
              "      <td>0.0</td>\n",
              "      <td>0.0</td>\n",
              "      <td>0.0</td>\n",
              "      <td>0.0</td>\n",
              "      <td>0.0</td>\n",
              "      <td>0.0</td>\n",
              "      <td>0.0</td>\n",
              "      <td>0.0</td>\n",
              "      <td>0.0</td>\n",
              "      <td>0.0</td>\n",
              "      <td>0.0</td>\n",
              "      <td>0.0</td>\n",
              "      <td>0.0</td>\n",
              "      <td>0.0</td>\n",
              "      <td>0.0</td>\n",
              "      <td>0.0</td>\n",
              "      <td>0.0</td>\n",
              "      <td>0.0</td>\n",
              "      <td>0.0</td>\n",
              "      <td>0.0</td>\n",
              "      <td>...</td>\n",
              "      <td>0.0</td>\n",
              "      <td>0.0</td>\n",
              "      <td>0.0</td>\n",
              "      <td>0.0</td>\n",
              "      <td>0.0</td>\n",
              "      <td>0.0</td>\n",
              "      <td>0.0</td>\n",
              "      <td>0.0</td>\n",
              "      <td>0.0</td>\n",
              "      <td>0.0</td>\n",
              "      <td>0.0</td>\n",
              "      <td>0.0</td>\n",
              "      <td>0.0</td>\n",
              "      <td>0.0</td>\n",
              "      <td>0.0</td>\n",
              "      <td>0.0</td>\n",
              "      <td>0.0</td>\n",
              "      <td>0.0</td>\n",
              "      <td>0.0</td>\n",
              "      <td>0.0</td>\n",
              "      <td>0.0</td>\n",
              "      <td>0.0</td>\n",
              "      <td>0.0</td>\n",
              "      <td>0.0</td>\n",
              "      <td>0.0</td>\n",
              "      <td>0.0</td>\n",
              "      <td>0.0</td>\n",
              "      <td>0.0</td>\n",
              "      <td>0.0</td>\n",
              "      <td>0.0</td>\n",
              "      <td>0.0</td>\n",
              "      <td>0.0</td>\n",
              "      <td>0.0</td>\n",
              "      <td>0.0</td>\n",
              "      <td>0.0</td>\n",
              "      <td>0.0</td>\n",
              "      <td>0.0</td>\n",
              "      <td>0.0</td>\n",
              "      <td>0.0</td>\n",
              "      <td>0.0</td>\n",
              "    </tr>\n",
              "    <tr>\n",
              "      <th>5705</th>\n",
              "      <td>0.0</td>\n",
              "      <td>0.0</td>\n",
              "      <td>0.0</td>\n",
              "      <td>0.0</td>\n",
              "      <td>0.0</td>\n",
              "      <td>0.0</td>\n",
              "      <td>0.0</td>\n",
              "      <td>0.0</td>\n",
              "      <td>0.0</td>\n",
              "      <td>0.0</td>\n",
              "      <td>0.0</td>\n",
              "      <td>0.0</td>\n",
              "      <td>0.0</td>\n",
              "      <td>0.0</td>\n",
              "      <td>0.0</td>\n",
              "      <td>0.0</td>\n",
              "      <td>0.0</td>\n",
              "      <td>0.0</td>\n",
              "      <td>0.0</td>\n",
              "      <td>0.0</td>\n",
              "      <td>0.0</td>\n",
              "      <td>0.0</td>\n",
              "      <td>0.0</td>\n",
              "      <td>0.0</td>\n",
              "      <td>0.0</td>\n",
              "      <td>0.0</td>\n",
              "      <td>0.0</td>\n",
              "      <td>0.0</td>\n",
              "      <td>0.0</td>\n",
              "      <td>0.0</td>\n",
              "      <td>0.0</td>\n",
              "      <td>0.0</td>\n",
              "      <td>0.0</td>\n",
              "      <td>0.0</td>\n",
              "      <td>0.0</td>\n",
              "      <td>0.0</td>\n",
              "      <td>0.0</td>\n",
              "      <td>0.0</td>\n",
              "      <td>0.0</td>\n",
              "      <td>0.0</td>\n",
              "      <td>...</td>\n",
              "      <td>0.0</td>\n",
              "      <td>0.0</td>\n",
              "      <td>0.0</td>\n",
              "      <td>0.0</td>\n",
              "      <td>0.0</td>\n",
              "      <td>0.0</td>\n",
              "      <td>0.0</td>\n",
              "      <td>0.0</td>\n",
              "      <td>0.0</td>\n",
              "      <td>0.0</td>\n",
              "      <td>0.0</td>\n",
              "      <td>0.0</td>\n",
              "      <td>0.0</td>\n",
              "      <td>0.0</td>\n",
              "      <td>0.0</td>\n",
              "      <td>0.0</td>\n",
              "      <td>0.0</td>\n",
              "      <td>0.0</td>\n",
              "      <td>0.0</td>\n",
              "      <td>0.0</td>\n",
              "      <td>0.0</td>\n",
              "      <td>0.0</td>\n",
              "      <td>0.0</td>\n",
              "      <td>0.0</td>\n",
              "      <td>0.0</td>\n",
              "      <td>0.0</td>\n",
              "      <td>0.0</td>\n",
              "      <td>0.0</td>\n",
              "      <td>0.0</td>\n",
              "      <td>0.0</td>\n",
              "      <td>0.0</td>\n",
              "      <td>0.0</td>\n",
              "      <td>0.0</td>\n",
              "      <td>0.0</td>\n",
              "      <td>0.0</td>\n",
              "      <td>0.0</td>\n",
              "      <td>0.0</td>\n",
              "      <td>0.0</td>\n",
              "      <td>0.0</td>\n",
              "      <td>0.0</td>\n",
              "    </tr>\n",
              "    <tr>\n",
              "      <th>5706</th>\n",
              "      <td>0.0</td>\n",
              "      <td>0.0</td>\n",
              "      <td>0.0</td>\n",
              "      <td>0.0</td>\n",
              "      <td>0.0</td>\n",
              "      <td>0.0</td>\n",
              "      <td>0.0</td>\n",
              "      <td>0.0</td>\n",
              "      <td>0.0</td>\n",
              "      <td>0.0</td>\n",
              "      <td>0.0</td>\n",
              "      <td>0.0</td>\n",
              "      <td>0.0</td>\n",
              "      <td>0.0</td>\n",
              "      <td>0.0</td>\n",
              "      <td>0.0</td>\n",
              "      <td>0.0</td>\n",
              "      <td>0.0</td>\n",
              "      <td>0.0</td>\n",
              "      <td>0.0</td>\n",
              "      <td>0.0</td>\n",
              "      <td>0.0</td>\n",
              "      <td>0.0</td>\n",
              "      <td>0.0</td>\n",
              "      <td>0.0</td>\n",
              "      <td>0.0</td>\n",
              "      <td>0.0</td>\n",
              "      <td>0.0</td>\n",
              "      <td>0.0</td>\n",
              "      <td>0.0</td>\n",
              "      <td>0.0</td>\n",
              "      <td>0.0</td>\n",
              "      <td>0.0</td>\n",
              "      <td>0.0</td>\n",
              "      <td>0.0</td>\n",
              "      <td>0.0</td>\n",
              "      <td>0.0</td>\n",
              "      <td>0.0</td>\n",
              "      <td>0.0</td>\n",
              "      <td>0.0</td>\n",
              "      <td>...</td>\n",
              "      <td>0.0</td>\n",
              "      <td>0.0</td>\n",
              "      <td>0.0</td>\n",
              "      <td>0.0</td>\n",
              "      <td>0.0</td>\n",
              "      <td>0.0</td>\n",
              "      <td>0.0</td>\n",
              "      <td>0.0</td>\n",
              "      <td>0.0</td>\n",
              "      <td>0.0</td>\n",
              "      <td>0.0</td>\n",
              "      <td>0.0</td>\n",
              "      <td>0.0</td>\n",
              "      <td>0.0</td>\n",
              "      <td>0.0</td>\n",
              "      <td>0.0</td>\n",
              "      <td>0.0</td>\n",
              "      <td>0.0</td>\n",
              "      <td>0.0</td>\n",
              "      <td>0.0</td>\n",
              "      <td>0.0</td>\n",
              "      <td>0.0</td>\n",
              "      <td>0.0</td>\n",
              "      <td>0.0</td>\n",
              "      <td>0.0</td>\n",
              "      <td>0.0</td>\n",
              "      <td>0.0</td>\n",
              "      <td>0.0</td>\n",
              "      <td>0.0</td>\n",
              "      <td>0.0</td>\n",
              "      <td>0.0</td>\n",
              "      <td>0.0</td>\n",
              "      <td>0.0</td>\n",
              "      <td>0.0</td>\n",
              "      <td>0.0</td>\n",
              "      <td>0.0</td>\n",
              "      <td>0.0</td>\n",
              "      <td>0.0</td>\n",
              "      <td>0.0</td>\n",
              "      <td>0.0</td>\n",
              "    </tr>\n",
              "    <tr>\n",
              "      <th>5707</th>\n",
              "      <td>0.0</td>\n",
              "      <td>0.0</td>\n",
              "      <td>0.0</td>\n",
              "      <td>0.0</td>\n",
              "      <td>0.0</td>\n",
              "      <td>0.0</td>\n",
              "      <td>0.0</td>\n",
              "      <td>0.0</td>\n",
              "      <td>0.0</td>\n",
              "      <td>0.0</td>\n",
              "      <td>0.0</td>\n",
              "      <td>0.0</td>\n",
              "      <td>0.0</td>\n",
              "      <td>0.0</td>\n",
              "      <td>0.0</td>\n",
              "      <td>0.0</td>\n",
              "      <td>0.0</td>\n",
              "      <td>0.0</td>\n",
              "      <td>0.0</td>\n",
              "      <td>0.0</td>\n",
              "      <td>0.0</td>\n",
              "      <td>0.0</td>\n",
              "      <td>0.0</td>\n",
              "      <td>0.0</td>\n",
              "      <td>0.0</td>\n",
              "      <td>0.0</td>\n",
              "      <td>0.0</td>\n",
              "      <td>0.0</td>\n",
              "      <td>0.0</td>\n",
              "      <td>0.0</td>\n",
              "      <td>0.0</td>\n",
              "      <td>0.0</td>\n",
              "      <td>0.0</td>\n",
              "      <td>0.0</td>\n",
              "      <td>0.0</td>\n",
              "      <td>0.0</td>\n",
              "      <td>0.0</td>\n",
              "      <td>0.0</td>\n",
              "      <td>0.0</td>\n",
              "      <td>0.0</td>\n",
              "      <td>...</td>\n",
              "      <td>0.0</td>\n",
              "      <td>0.0</td>\n",
              "      <td>0.0</td>\n",
              "      <td>0.0</td>\n",
              "      <td>0.0</td>\n",
              "      <td>0.0</td>\n",
              "      <td>0.0</td>\n",
              "      <td>0.0</td>\n",
              "      <td>0.0</td>\n",
              "      <td>0.0</td>\n",
              "      <td>0.0</td>\n",
              "      <td>0.0</td>\n",
              "      <td>0.0</td>\n",
              "      <td>0.0</td>\n",
              "      <td>0.0</td>\n",
              "      <td>0.0</td>\n",
              "      <td>0.0</td>\n",
              "      <td>0.0</td>\n",
              "      <td>0.0</td>\n",
              "      <td>0.0</td>\n",
              "      <td>0.0</td>\n",
              "      <td>0.0</td>\n",
              "      <td>0.0</td>\n",
              "      <td>0.0</td>\n",
              "      <td>0.0</td>\n",
              "      <td>0.0</td>\n",
              "      <td>0.0</td>\n",
              "      <td>0.0</td>\n",
              "      <td>0.0</td>\n",
              "      <td>0.0</td>\n",
              "      <td>0.0</td>\n",
              "      <td>0.0</td>\n",
              "      <td>0.0</td>\n",
              "      <td>0.0</td>\n",
              "      <td>0.0</td>\n",
              "      <td>0.0</td>\n",
              "      <td>0.0</td>\n",
              "      <td>0.0</td>\n",
              "      <td>0.0</td>\n",
              "      <td>0.0</td>\n",
              "    </tr>\n",
              "  </tbody>\n",
              "</table>\n",
              "<p>5708 rows × 25593 columns</p>\n",
              "</div>"
            ],
            "text/plain": [
              "       aa  aaa  aaaenerfax  aadedeji  ...  zzmacmac  zzn  zzncacst  zzzz\n",
              "0     0.0  0.0  0.0         0.0       ...  0.0       0.0  0.0       0.0 \n",
              "1     0.0  0.0  0.0         0.0       ...  0.0       0.0  0.0       0.0 \n",
              "2     0.0  0.0  0.0         0.0       ...  0.0       0.0  0.0       0.0 \n",
              "3     0.0  0.0  0.0         0.0       ...  0.0       0.0  0.0       0.0 \n",
              "4     0.0  0.0  0.0         0.0       ...  0.0       0.0  0.0       0.0 \n",
              "...   ...  ...  ...         ...       ...  ...       ...  ...       ... \n",
              "5703  0.0  0.0  0.0         0.0       ...  0.0       0.0  0.0       0.0 \n",
              "5704  0.0  0.0  0.0         0.0       ...  0.0       0.0  0.0       0.0 \n",
              "5705  0.0  0.0  0.0         0.0       ...  0.0       0.0  0.0       0.0 \n",
              "5706  0.0  0.0  0.0         0.0       ...  0.0       0.0  0.0       0.0 \n",
              "5707  0.0  0.0  0.0         0.0       ...  0.0       0.0  0.0       0.0 \n",
              "\n",
              "[5708 rows x 25593 columns]"
            ]
          },
          "metadata": {},
          "execution_count": 69
        }
      ]
    },
    {
      "cell_type": "markdown",
      "metadata": {
        "id": "ElD3sq-wTq6L"
      },
      "source": [
        "#**Section 4: Splitting Data **\n",
        "\n",
        "You have to divide the given dataset two parts called train and test data, in the ratio 80:20 i.e. train data will contain 80% of total dataset and test will contain 20% dataset. The distribution of spam and ham email in train and test should be balanced.\n",
        "\n",
        "You have to use Random state : 42"
      ]
    },
    {
      "cell_type": "code",
      "metadata": {
        "id": "h09_WQKrUUln",
        "colab": {
          "base_uri": "https://localhost:8080/"
        },
        "outputId": "f1bf509d-0944-4791-9a63-1ff400b983a4"
      },
      "source": [
        "# Please insert your code here\n",
        "#BALANCING THE DATASET USING RandomOverSampler\n",
        "ros =  RandomOverSampler(random_state=42) \n",
        "t=mydatatfidf\n",
        "s=mydata['spam']\n",
        "x_train, y_train = ros.fit_sample(t, s)\n",
        "print('Original dataset shape {}'.format(Counter(s)))\n",
        "print('Resampled dataset shape {}'.format(Counter(y_train)))\n"
      ],
      "execution_count": 70,
      "outputs": [
        {
          "output_type": "stream",
          "name": "stderr",
          "text": [
            "/usr/local/lib/python3.7/dist-packages/sklearn/utils/deprecation.py:87: FutureWarning: Function safe_indexing is deprecated; safe_indexing is deprecated in version 0.22 and will be removed in version 0.24.\n",
            "  warnings.warn(msg, category=FutureWarning)\n"
          ]
        },
        {
          "output_type": "stream",
          "name": "stdout",
          "text": [
            "Original dataset shape Counter({0: 4350, 1: 1358})\n",
            "Resampled dataset shape Counter({1: 4350, 0: 4350})\n"
          ]
        }
      ]
    },
    {
      "cell_type": "markdown",
      "metadata": {
        "id": "eVZFeVkp6hT_"
      },
      "source": [
        "*As we can see that after balancing both spam and ham total values have become equal to 4350. This gives us a balanced dataset*"
      ]
    },
    {
      "cell_type": "code",
      "metadata": {
        "colab": {
          "base_uri": "https://localhost:8080/"
        },
        "id": "LzQBQmldWFci",
        "outputId": "c74ad0ca-b4c9-487b-aa2a-33c1f5b0b504"
      },
      "source": [
        "xtrain, xtest, ytrain, ytest = train_test_split(x_train,y_train, test_size=0.2, random_state=42)\n",
        "print(\"xtrain :\",len(xtrain))\n",
        "print(\"xtest :\",len(xtest))\n",
        "print(\"ytrain :\",len(ytrain))\n",
        "print(\"ytest :\",len(ytest))\n"
      ],
      "execution_count": 71,
      "outputs": [
        {
          "output_type": "stream",
          "name": "stdout",
          "text": [
            "xtrain : 6960\n",
            "xtest : 1740\n",
            "ytrain : 6960\n",
            "ytest : 1740\n"
          ]
        }
      ]
    },
    {
      "cell_type": "markdown",
      "metadata": {
        "id": "csJBPDhfLYUH"
      },
      "source": [
        "#**Section 5: Vector-distance based Spam Filter**\n",
        "\n",
        "\n",
        "1. Implement the vector-distance based spam filter as discussed in the class (the method is described in the slides shared in the google classroom)\n",
        "\n",
        "2. Report the accuracy, and f-measure. (Your can explore about accuracy and F-measure metrics here are some helpful links: \n",
        "\n",
        "Accuracy: https://en.wikipedia.org/wiki/Accuracy_and_precision#In_binary_classification\n",
        "\n",
        "F-measure: https://en.wikipedia.org/wiki/F-score\n",
        "\n",
        "\n",
        "3. Plot the confusion matrix.\n",
        "https://en.wikipedia.org/wiki/Confusion_matrix\n",
        "\n",
        "4. Comment on the classifier's performance"
      ]
    },
    {
      "cell_type": "code",
      "metadata": {
        "id": "0scCcF3mOOfn",
        "colab": {
          "base_uri": "https://localhost:8080/"
        },
        "outputId": "7e3418d8-3c78-4859-caab-7b86f0eecdd2"
      },
      "source": [
        "# Please insert your code here\n",
        "#GET SPAM AND NONSPAM CLASSES\n",
        "train_frame=pd.DataFrame(xtrain)\n",
        "train_frame['spam']=ytrain\n",
        "spam_d=train_frame[train_frame['spam'] == 1]\n",
        "spam_d.drop('spam', inplace=True, axis=1)\n",
        "spam_d=spam_d.to_numpy()\n",
        "no_spam_d=train_frame[train_frame['spam'] == 0]\n",
        "no_spam_d.drop('spam', inplace=True, axis=1)\n",
        "no_spam_d=no_spam_d.to_numpy()"
      ],
      "execution_count": 72,
      "outputs": [
        {
          "output_type": "stream",
          "name": "stderr",
          "text": [
            "/usr/local/lib/python3.7/dist-packages/pandas/core/frame.py:4174: SettingWithCopyWarning: \n",
            "A value is trying to be set on a copy of a slice from a DataFrame\n",
            "\n",
            "See the caveats in the documentation: https://pandas.pydata.org/pandas-docs/stable/user_guide/indexing.html#returning-a-view-versus-a-copy\n",
            "  errors=errors,\n",
            "/usr/local/lib/python3.7/dist-packages/pandas/core/frame.py:4174: SettingWithCopyWarning: \n",
            "A value is trying to be set on a copy of a slice from a DataFrame\n",
            "\n",
            "See the caveats in the documentation: https://pandas.pydata.org/pandas-docs/stable/user_guide/indexing.html#returning-a-view-versus-a-copy\n",
            "  errors=errors,\n"
          ]
        }
      ]
    },
    {
      "cell_type": "code",
      "metadata": {
        "id": "awPtnD-PWiJc",
        "colab": {
          "base_uri": "https://localhost:8080/"
        },
        "outputId": "c2d70d9f-59fe-49c6-c9dc-2020d22319fc"
      },
      "source": [
        "#USE EUCLIDEAN DISTANCE TO FIND THE DISTANCE OF NEW MESSAGE FROM SPAM AND NONSPAM CLASSES\n",
        "accuracy_data=[]\n",
        "f1_data=[]\n",
        "mypred=[]\n",
        "def euclidean_distance(v1,v2):\n",
        "  return np.linalg.norm(v1 - v2)\n",
        "\n",
        "for x in xtest:\n",
        "  spam_distances = [euclidean_distance(x,y) for y in spam_d]\n",
        "  avg_spam=sum(spam_distances) / len(spam_distances) #FIND AVG OF SPAM DISTANCES\n",
        "  non_spam_distances = [euclidean_distance(x,z) for z in no_spam_d]\n",
        "  avg_no_spam=sum(non_spam_distances) / len(non_spam_distances) #FIND AVG OF NONSPAM DISTANCES\n",
        "  if avg_spam < avg_no_spam:\n",
        "    mypred.append(1) #IF AVG OF SPAM IS LESS, THEN ASSIGN CLASS 1\n",
        "  else:\n",
        "    mypred.append(0) #ELSE ASSIGN CLASS 0\n",
        "\n",
        "mypred=np.array(mypred)\n",
        "mypred"
      ],
      "execution_count": 73,
      "outputs": [
        {
          "output_type": "execute_result",
          "data": {
            "text/plain": [
              "array([1, 0, 1, ..., 0, 0, 1])"
            ]
          },
          "metadata": {},
          "execution_count": 73
        }
      ]
    },
    {
      "cell_type": "code",
      "metadata": {
        "id": "GPXoNMijWmL9",
        "colab": {
          "base_uri": "https://localhost:8080/"
        },
        "outputId": "4b05ae5f-5498-4bde-d2cc-8e6893ce37d8"
      },
      "source": [
        "accuracy_data.append(accuracy_score(ytest, mypred))\n",
        "f1_data.append(f1_score(ytest,mypred))\n",
        "print(\"Accuracy of Vector-distance based Spam Filter: \",accuracy_score(ytest,mypred))\n",
        "print(\"f-measure of Vector-distance based Spam Filter: \",f1_score(ytest,mypred))\n",
        "print(classification_report(ytest,mypred))\n"
      ],
      "execution_count": 74,
      "outputs": [
        {
          "output_type": "stream",
          "name": "stdout",
          "text": [
            "Accuracy of Vector-distance based Spam Filter:  0.9051724137931034\n",
            "f-measure of Vector-distance based Spam Filter:  0.896291640477687\n",
            "              precision    recall  f1-score   support\n",
            "\n",
            "           0       0.84      0.99      0.91       868\n",
            "           1       0.99      0.82      0.90       872\n",
            "\n",
            "    accuracy                           0.91      1740\n",
            "   macro avg       0.92      0.91      0.90      1740\n",
            "weighted avg       0.92      0.91      0.90      1740\n",
            "\n"
          ]
        }
      ]
    },
    {
      "cell_type": "code",
      "metadata": {
        "id": "62N5AkhG70Lb",
        "colab": {
          "base_uri": "https://localhost:8080/",
          "height": 341
        },
        "outputId": "83303cfa-e05c-4de0-de73-958307dd062d"
      },
      "source": [
        "conf=confusion_matrix(ytest,mypred)\n",
        "print(\"Confusion Matrix:\\n\",conf)\n",
        "mylabel = ['Class 0', 'Class 1']\n",
        "fig = plt.figure()\n",
        "fas = fig.add_subplot(111)\n",
        "fm = fas.matshow(conf, cmap=plt.cm.Greens)\n",
        "fig.colorbar(fm)\n",
        "plt.ylabel('Actuals',fontsize=18)\n",
        "plt.xlabel('Predicted',fontsize=18)\n",
        "plt.show()"
      ],
      "execution_count": 75,
      "outputs": [
        {
          "output_type": "stream",
          "name": "stdout",
          "text": [
            "Confusion Matrix:\n",
            " [[862   6]\n",
            " [159 713]]\n"
          ]
        },
        {
          "output_type": "display_data",
          "data": {
            "image/png": "[encoded data removed]",
            "text/plain": [
              "<Figure size 432x288 with 2 Axes>"
            ]
          },
          "metadata": {}
        }
      ]
    },
    {
      "cell_type": "markdown",
      "metadata": {
        "id": "d0U8LyvI-meG"
      },
      "source": [
        "**OBSERVATIONS:**\n",
        "\n",
        "*Accuracy of Vector-distance based Spam Filter is 0.905. This means that approx 90.5% of our predictions were right for both spam and ham*\n",
        "\n",
        "*Precision for class 0 is 0.84. This means that out of all the ham predictions 84% were actually ham.*\n",
        "\n",
        "*Precision for class 1 is 0.99. This means that out of all the spam predictions 99% were actually spam.*\n",
        "\n",
        "*Recall of class 0 is 0.99. This means that out of all the actual hams 99% were predcited hams.*\n",
        "\n",
        "*Recall of class 1 is 0.82. This means that out of all the actual spams 82% were predcited spams.*\n",
        "\n",
        "*With the help of confusion matrix we can see that out of actual 868 hams 862 were predicted hams and 6 were predicted spams and out of actual 872 spams 159 were predcited hams and 713 were predicted spams.*\n",
        "\n",
        "*f-measure of Vector-distance based Spam Filter is 0.896*\n",
        "\n",
        "**Vector-distance based Spam Filter predicts a lot of actual spams as ham so we get low precision for ham and low recall for spam.**\n",
        "\n",
        "\n"
      ]
    },
    {
      "cell_type": "markdown",
      "metadata": {
        "id": "_FkLZMXuUk0K"
      },
      "source": [
        "#**Section 6: Naiive Bayes **\n",
        "\n",
        "\n",
        "1. Apply Naive Bayes classifier to classify Spam/ham.\n",
        "\n",
        "2. Report the accuracy, and f-measure.\n",
        "\n",
        "3. Plot the confusion matrix.\n",
        "\n",
        "4. Comment on the classifier's performance\n",
        "\n"
      ]
    },
    {
      "cell_type": "code",
      "metadata": {
        "id": "vOHIGRUqVT9L",
        "colab": {
          "base_uri": "https://localhost:8080/"
        },
        "outputId": "14dd1383-d51b-4ea3-9684-c1ebcff121ff"
      },
      "source": [
        "# Please insert your code here\n",
        "nabayes = MultinomialNB()\n",
        "nabayes.fit(xtrain, ytrain)\n",
        "nabayes_p = nabayes.predict(xtest)\n",
        "accuracy_data.append(accuracy_score(ytest, nabayes_p))\n",
        "f1_data.append(f1_score(ytest,nabayes_p))\n",
        "print(\"Accuracy of Naiive Bayes: \",accuracy_score(ytest,nabayes_p))\n",
        "print(\"f-measure of Naiive Bayes: \",f1_score(ytest,nabayes_p))\n",
        "print(classification_report(ytest,nabayes_p))"
      ],
      "execution_count": 76,
      "outputs": [
        {
          "output_type": "stream",
          "name": "stdout",
          "text": [
            "Accuracy of Naiive Bayes:  0.9948275862068966\n",
            "f-measure of Naiive Bayes:  0.9948364888123924\n",
            "              precision    recall  f1-score   support\n",
            "\n",
            "           0       0.99      1.00      0.99       868\n",
            "           1       1.00      0.99      0.99       872\n",
            "\n",
            "    accuracy                           0.99      1740\n",
            "   macro avg       0.99      0.99      0.99      1740\n",
            "weighted avg       0.99      0.99      0.99      1740\n",
            "\n"
          ]
        }
      ]
    },
    {
      "cell_type": "code",
      "metadata": {
        "colab": {
          "base_uri": "https://localhost:8080/",
          "height": 335
        },
        "id": "3auMDPrvJWgj",
        "outputId": "ec2e424d-c625-4f89-cfb6-e76f53520ccc"
      },
      "source": [
        "conf=confusion_matrix(ytest,nabayes_p)\n",
        "print(\"Confusion Matrix:\\n\",conf)\n",
        "mylabel = ['Class 0', 'Class 1']\n",
        "fig = plt.figure()\n",
        "fas = fig.add_subplot(111)\n",
        "fm = fas.matshow(conf, cmap=plt.cm.Greens)\n",
        "fig.colorbar(fm)\n",
        "plt.ylabel('Actuals')\n",
        "plt.xlabel('Predicted')\n",
        "plt.show()"
      ],
      "execution_count": 77,
      "outputs": [
        {
          "output_type": "stream",
          "name": "stdout",
          "text": [
            "Confusion Matrix:\n",
            " [[864   4]\n",
            " [  5 867]]\n"
          ]
        },
        {
          "output_type": "display_data",
          "data": {
            "image/png": "[encoded data removed]",
            "text/plain": [
              "<Figure size 432x288 with 2 Axes>"
            ]
          },
          "metadata": {}
        }
      ]
    },
    {
      "cell_type": "markdown",
      "metadata": {
        "id": "Ao7VAxA4U_QI"
      },
      "source": [
        "**OBSERVATIONS:**\n",
        "\n",
        "*Accuracy of Naiive Bayes is 0.995. This means that approx 99.5% of our predictions were right for both spam and ham*\n",
        "\n",
        "*Precision for class 0 is 0.99. This means that out of all the ham predictions 99% were actually ham.*\n",
        "\n",
        "*Precision for class 1 is 1. This means that out of all the spam predictions approx. all were spam.*\n",
        "\n",
        "*Recall of class 0 is 1. This means that out of all the actual hams approx all were predcited hams.*\n",
        "\n",
        "*Recall of class 1 is 0.99. This means that out of all the actual spams 99% were predcited spams.*\n",
        "\n",
        "*With the help of confusion matrix we can see that out of actual 868 hams 864 were predicted hams and 4 were predicted spams and out of actual 872 spams 5 were predcited hams and 867 were predicted spams.*\n",
        "\n",
        "*f-measure of Naiive Bayes is approx 0.995*\n",
        "\n",
        "**Naiive Bayes performs good prediction on both actual hams and actual spams.**"
      ]
    },
    {
      "cell_type": "markdown",
      "metadata": {
        "id": "6er2plPsUcpZ"
      },
      "source": [
        "#**Section 7: Decision Tree **\n",
        "1. Apply Decision Tree Algorithm\n",
        "\n",
        "2. Report the accuracy, and f-measure.\n",
        "\n",
        "3. Plot the confusion matrix.\n",
        "\n",
        "4. Comment on the classifier's performance"
      ]
    },
    {
      "cell_type": "code",
      "metadata": {
        "id": "s5bmPvB8VUbo",
        "colab": {
          "base_uri": "https://localhost:8080/"
        },
        "outputId": "b78fdf20-8467-4b92-a60f-9cb09b715cd0"
      },
      "source": [
        "# Please insert your code here\n",
        "dect=DecisionTreeClassifier(random_state=42)\n",
        "dect.fit(xtrain, ytrain)\n",
        "dect_p=dect.predict(xtest)\n",
        "accuracy_data.append(accuracy_score(ytest, dect_p))\n",
        "f1_data.append(f1_score(ytest,dect_p))\n",
        "print(\"Accuracy of Decison Tree: \",accuracy_score(ytest,dect_p))\n",
        "print(\"f-measure of Decison Tree: \",f1_score(ytest,dect_p))\n",
        "print(classification_report(ytest,dect_p))\n"
      ],
      "execution_count": 78,
      "outputs": [
        {
          "output_type": "stream",
          "name": "stdout",
          "text": [
            "Accuracy of Decison Tree:  0.9781609195402299\n",
            "f-measure of Decison Tree:  0.9784824462061155\n",
            "              precision    recall  f1-score   support\n",
            "\n",
            "           0       0.99      0.97      0.98       868\n",
            "           1       0.97      0.99      0.98       872\n",
            "\n",
            "    accuracy                           0.98      1740\n",
            "   macro avg       0.98      0.98      0.98      1740\n",
            "weighted avg       0.98      0.98      0.98      1740\n",
            "\n"
          ]
        }
      ]
    },
    {
      "cell_type": "code",
      "metadata": {
        "colab": {
          "base_uri": "https://localhost:8080/",
          "height": 335
        },
        "id": "o3ShwTrqJc4_",
        "outputId": "8755e17c-6f02-4106-d6f4-31bc4613f497"
      },
      "source": [
        "conf=confusion_matrix(ytest,dect_p)\n",
        "print(\"Confusion Matrix:\\n\",conf)\n",
        "mylabel = ['Class 0', 'Class 1']\n",
        "fig = plt.figure()\n",
        "fas = fig.add_subplot(111)\n",
        "fm = fas.matshow(conf, cmap=plt.cm.Greens)\n",
        "fig.colorbar(fm)\n",
        "plt.ylabel('Actuals')\n",
        "plt.xlabel('Predicted')\n",
        "plt.show()"
      ],
      "execution_count": 79,
      "outputs": [
        {
          "output_type": "stream",
          "name": "stdout",
          "text": [
            "Confusion Matrix:\n",
            " [[838  30]\n",
            " [  8 864]]\n"
          ]
        },
        {
          "output_type": "display_data",
          "data": {
            "image/png": "[encoded data removed]",
            "text/plain": [
              "<Figure size 432x288 with 2 Axes>"
            ]
          },
          "metadata": {}
        }
      ]
    },
    {
      "cell_type": "markdown",
      "metadata": {
        "id": "E3iZWBetXGWf"
      },
      "source": [
        "**OBSERVATIONS:**\n",
        "\n",
        "*Accuracy of Decision Tree is approx 0.978. This means that approx 97.8% of our predictions were right for both spam and ham*\n",
        "\n",
        "*Precision for class 0 is 0.99. This means that out of all the ham predictions 99% were actually ham.*\n",
        "\n",
        "*Precision for class 1 is 0.97. This means that out of all the spam predictions 97% were actually spam.*\n",
        "\n",
        "*Recall of class 0 is 0.97. This means that out of all the actual hams 97% were predcited hams.*\n",
        "\n",
        "*Recall of class 1 is 0.99. This means that out of all the actual spams 99% were predcited spams.*\n",
        "\n",
        "*With the help of confusion matrix we can see that out of actual 868 hams 838 were predicted hams and 30 were predicted spams and out of actual 872 spams 8 were predcited hams and 864 were predicted spams.*\n",
        "\n",
        "*f-measure of Decision Tree is approx 0.978*\n",
        "\n",
        "**Decision Tree predicts 30 actual hams as spams so it gives slight low precision for spams and low recall for hams.**\n"
      ]
    },
    {
      "cell_type": "markdown",
      "metadata": {
        "id": "tBmV9n2GUwRK"
      },
      "source": [
        "#**Section 8: Support Vector Machine **\n",
        "\n",
        "You have to use \"linear\" kernel.\n",
        "\n",
        "\n",
        "1. Apply Support Vector Machine (SVM) algorithm\n",
        "\n",
        "2. Report the accuracy, and f-measure.\n",
        "\n",
        "3. Plot the confusion matrix.\n",
        "\n",
        "4. Comment on the classifier's performance\n"
      ]
    },
    {
      "cell_type": "code",
      "metadata": {
        "id": "MJ-PPakfVU-A",
        "colab": {
          "base_uri": "https://localhost:8080/"
        },
        "outputId": "22ae2411-bb46-47e3-c893-69371fd80692"
      },
      "source": [
        "# Please insert your code here\n",
        "sup=SVC(kernel='linear',random_state=42)\n",
        "sup.fit(xtrain, ytrain)\n",
        "sup_p=sup.predict(xtest)\n",
        "accuracy_data.append(accuracy_score(ytest, sup_p))\n",
        "f1_data.append(f1_score(ytest,sup_p))\n",
        "print(\"Accuracy of Support Vector Machine: \",accuracy_score(ytest,sup_p))\n",
        "print(\"f-measure of Support Vector Machine: \",f1_score(ytest,sup_p))\n",
        "print(classification_report(ytest,sup_p))"
      ],
      "execution_count": 80,
      "outputs": [
        {
          "output_type": "stream",
          "name": "stdout",
          "text": [
            "Accuracy of Support Vector Machine:  0.9982758620689656\n",
            "f-measure of Support Vector Machine:  0.998282770463652\n",
            "              precision    recall  f1-score   support\n",
            "\n",
            "           0       1.00      1.00      1.00       868\n",
            "           1       1.00      1.00      1.00       872\n",
            "\n",
            "    accuracy                           1.00      1740\n",
            "   macro avg       1.00      1.00      1.00      1740\n",
            "weighted avg       1.00      1.00      1.00      1740\n",
            "\n"
          ]
        }
      ]
    },
    {
      "cell_type": "code",
      "metadata": {
        "id": "rh74oNtDjVCV",
        "colab": {
          "base_uri": "https://localhost:8080/",
          "height": 335
        },
        "outputId": "fc98767d-8636-4bc5-be70-83047939e832"
      },
      "source": [
        "conf=confusion_matrix(ytest,sup_p)\n",
        "print(\"Confusion Matrix:\\n\",conf)\n",
        "mylabel = ['Class 0', 'Class 1']\n",
        "fig = plt.figure()\n",
        "fas = fig.add_subplot(111)\n",
        "fm = fas.matshow(conf, cmap=plt.cm.Greens)\n",
        "fig.colorbar(fm)\n",
        "plt.ylabel('Actuals')\n",
        "plt.xlabel('Predicted')\n",
        "plt.show()\n"
      ],
      "execution_count": 81,
      "outputs": [
        {
          "output_type": "stream",
          "name": "stdout",
          "text": [
            "Confusion Matrix:\n",
            " [[865   3]\n",
            " [  0 872]]\n"
          ]
        },
        {
          "output_type": "display_data",
          "data": {
            "image/png": "[encoded data removed]",
            "text/plain": [
              "<Figure size 432x288 with 2 Axes>"
            ]
          },
          "metadata": {}
        }
      ]
    },
    {
      "cell_type": "markdown",
      "metadata": {
        "id": "36Sc4k0HaFzT"
      },
      "source": [
        "**OBSERVATIONS:**\n",
        "\n",
        "*Accuracy of Support Vector Machine is approx 0.998. This means that approx 99.8% of our predictions were right for both spam and ham*\n",
        "\n",
        "*Precision for class 0 is 1. This means that out of all the ham predictions approx. all were actually ham.*\n",
        "\n",
        "*Precision for class 1 is 1. This means that out of all the spam predictions approx. all were actually spam.*\n",
        "\n",
        "*Recall of class 0 is 1. This means that out of all the actual hams approx. all were predcited hams.*\n",
        "\n",
        "*Recall of class 1 is 1. This means that out of all the actual spams approx. all were predcited spams.*\n",
        "\n",
        "*With the help of confusion matrix we can see that out of actual 868 hams 865 were predicted hams and 3 were predicted spams and out of actual 872 spams none were predcited hams and all 872 were predicted spams.*\n",
        "\n",
        "*f-measure of Support Vector Machine is approx 0.998*\n",
        "\n",
        "**Support Vector Machine performs exceptionally well. It predicts all the actual spams correctly and predicts only 3 actual hams as spams.**"
      ]
    },
    {
      "cell_type": "markdown",
      "metadata": {
        "id": "ZTuDAEYUU47H"
      },
      "source": [
        "#**Section 9: Compare all the classifiers' performances using graphs/plots and write your observations **"
      ]
    },
    {
      "cell_type": "code",
      "metadata": {
        "id": "drZSpya4WqpB",
        "colab": {
          "base_uri": "https://localhost:8080/",
          "height": 172
        },
        "outputId": "00a473a9-6dc7-4322-aaf1-2a6d53953f30"
      },
      "source": [
        "#Insert code here\n",
        "algos=['Vector-distance based Spam Filter','Naiive Bayes','Decision Tree','Support Vector Machine']\n",
        "table=pd.DataFrame()\n",
        "table['classifiers']=algos\n",
        "table['Accuracy']=accuracy_data\n",
        "table['f-measure']=f1_data\n",
        "table"
      ],
      "execution_count": 82,
      "outputs": [
        {
          "output_type": "execute_result",
          "data": {
            "text/html": [
              "<div>\n",
              "<style scoped>\n",
              "    .dataframe tbody tr th:only-of-type {\n",
              "        vertical-align: middle;\n",
              "    }\n",
              "\n",
              "    .dataframe tbody tr th {\n",
              "        vertical-align: top;\n",
              "    }\n",
              "\n",
              "    .dataframe thead th {\n",
              "        text-align: right;\n",
              "    }\n",
              "</style>\n",
              "<table border=\"1\" class=\"dataframe\">\n",
              "  <thead>\n",
              "    <tr style=\"text-align: right;\">\n",
              "      <th></th>\n",
              "      <th>classifiers</th>\n",
              "      <th>Accuracy</th>\n",
              "      <th>f-measure</th>\n",
              "    </tr>\n",
              "  </thead>\n",
              "  <tbody>\n",
              "    <tr>\n",
              "      <th>0</th>\n",
              "      <td>Vector-distance based Spam Filter</td>\n",
              "      <td>0.905172</td>\n",
              "      <td>0.896292</td>\n",
              "    </tr>\n",
              "    <tr>\n",
              "      <th>1</th>\n",
              "      <td>Naiive Bayes</td>\n",
              "      <td>0.994828</td>\n",
              "      <td>0.994836</td>\n",
              "    </tr>\n",
              "    <tr>\n",
              "      <th>2</th>\n",
              "      <td>Decision Tree</td>\n",
              "      <td>0.978161</td>\n",
              "      <td>0.978482</td>\n",
              "    </tr>\n",
              "    <tr>\n",
              "      <th>3</th>\n",
              "      <td>Support Vector Machine</td>\n",
              "      <td>0.998276</td>\n",
              "      <td>0.998283</td>\n",
              "    </tr>\n",
              "  </tbody>\n",
              "</table>\n",
              "</div>"
            ],
            "text/plain": [
              "                         classifiers  Accuracy  f-measure\n",
              "0  Vector-distance based Spam Filter  0.905172  0.896292 \n",
              "1  Naiive Bayes                       0.994828  0.994836 \n",
              "2  Decision Tree                      0.978161  0.978482 \n",
              "3  Support Vector Machine             0.998276  0.998283 "
            ]
          },
          "metadata": {},
          "execution_count": 82
        }
      ]
    },
    {
      "cell_type": "code",
      "metadata": {
        "id": "DqqMpZbQX45q",
        "colab": {
          "base_uri": "https://localhost:8080/",
          "height": 172
        },
        "outputId": "b7681d20-705a-42bb-b309-62ee9ae918cc"
      },
      "source": [
        "color=sb.light_palette(\"green\",as_cmap=True)\n",
        "color2=sb.light_palette(\"red\",as_cmap=True)\n",
        "table2=table.style.background_gradient(cmap=color,subset=['Accuracy']).background_gradient(cmap=color2,subset=['f-measure'])\n",
        "table2"
      ],
      "execution_count": 83,
      "outputs": [
        {
          "output_type": "execute_result",
          "data": {
            "text/html": [
              "<style  type=\"text/css\" >\n",
              "#T_1205fc4e_417d_11ec_bea5_0242ac1c0002row0_col1{\n",
              "            background-color:  #ebf3eb;\n",
              "            color:  #000000;\n",
              "        }#T_1205fc4e_417d_11ec_bea5_0242ac1c0002row0_col2{\n",
              "            background-color:  #f3f0f0;\n",
              "            color:  #000000;\n",
              "        }#T_1205fc4e_417d_11ec_bea5_0242ac1c0002row1_col1{\n",
              "            background-color:  #088408;\n",
              "            color:  #f1f1f1;\n",
              "        }#T_1205fc4e_417d_11ec_bea5_0242ac1c0002row1_col2{\n",
              "            background-color:  #ff0808;\n",
              "            color:  #f1f1f1;\n",
              "        }#T_1205fc4e_417d_11ec_bea5_0242ac1c0002row2_col1{\n",
              "            background-color:  #339933;\n",
              "            color:  #000000;\n",
              "        }#T_1205fc4e_417d_11ec_bea5_0242ac1c0002row2_col2{\n",
              "            background-color:  #fd2e2e;\n",
              "            color:  #f1f1f1;\n",
              "        }#T_1205fc4e_417d_11ec_bea5_0242ac1c0002row3_col1{\n",
              "            background-color:  #008000;\n",
              "            color:  #f1f1f1;\n",
              "        }#T_1205fc4e_417d_11ec_bea5_0242ac1c0002row3_col2{\n",
              "            background-color:  #ff0000;\n",
              "            color:  #f1f1f1;\n",
              "        }</style><table id=\"T_1205fc4e_417d_11ec_bea5_0242ac1c0002\" class=\"dataframe\"><thead>    <tr>        <th class=\"blank level0\" ></th>        <th class=\"col_heading level0 col0\" >classifiers</th>        <th class=\"col_heading level0 col1\" >Accuracy</th>        <th class=\"col_heading level0 col2\" >f-measure</th>    </tr></thead><tbody>\n",
              "                <tr>\n",
              "                        <th id=\"T_1205fc4e_417d_11ec_bea5_0242ac1c0002level0_row0\" class=\"row_heading level0 row0\" >0</th>\n",
              "                        <td id=\"T_1205fc4e_417d_11ec_bea5_0242ac1c0002row0_col0\" class=\"data row0 col0\" >Vector-distance based Spam Filter</td>\n",
              "                        <td id=\"T_1205fc4e_417d_11ec_bea5_0242ac1c0002row0_col1\" class=\"data row0 col1\" >0.905172</td>\n",
              "                        <td id=\"T_1205fc4e_417d_11ec_bea5_0242ac1c0002row0_col2\" class=\"data row0 col2\" >0.896292</td>\n",
              "            </tr>\n",
              "            <tr>\n",
              "                        <th id=\"T_1205fc4e_417d_11ec_bea5_0242ac1c0002level0_row1\" class=\"row_heading level0 row1\" >1</th>\n",
              "                        <td id=\"T_1205fc4e_417d_11ec_bea5_0242ac1c0002row1_col0\" class=\"data row1 col0\" >Naiive Bayes</td>\n",
              "                        <td id=\"T_1205fc4e_417d_11ec_bea5_0242ac1c0002row1_col1\" class=\"data row1 col1\" >0.994828</td>\n",
              "                        <td id=\"T_1205fc4e_417d_11ec_bea5_0242ac1c0002row1_col2\" class=\"data row1 col2\" >0.994836</td>\n",
              "            </tr>\n",
              "            <tr>\n",
              "                        <th id=\"T_1205fc4e_417d_11ec_bea5_0242ac1c0002level0_row2\" class=\"row_heading level0 row2\" >2</th>\n",
              "                        <td id=\"T_1205fc4e_417d_11ec_bea5_0242ac1c0002row2_col0\" class=\"data row2 col0\" >Decision Tree</td>\n",
              "                        <td id=\"T_1205fc4e_417d_11ec_bea5_0242ac1c0002row2_col1\" class=\"data row2 col1\" >0.978161</td>\n",
              "                        <td id=\"T_1205fc4e_417d_11ec_bea5_0242ac1c0002row2_col2\" class=\"data row2 col2\" >0.978482</td>\n",
              "            </tr>\n",
              "            <tr>\n",
              "                        <th id=\"T_1205fc4e_417d_11ec_bea5_0242ac1c0002level0_row3\" class=\"row_heading level0 row3\" >3</th>\n",
              "                        <td id=\"T_1205fc4e_417d_11ec_bea5_0242ac1c0002row3_col0\" class=\"data row3 col0\" >Support Vector Machine</td>\n",
              "                        <td id=\"T_1205fc4e_417d_11ec_bea5_0242ac1c0002row3_col1\" class=\"data row3 col1\" >0.998276</td>\n",
              "                        <td id=\"T_1205fc4e_417d_11ec_bea5_0242ac1c0002row3_col2\" class=\"data row3 col2\" >0.998283</td>\n",
              "            </tr>\n",
              "    </tbody></table>"
            ],
            "text/plain": [
              "<pandas.io.formats.style.Styler at 0x7f4b6cf89250>"
            ]
          },
          "metadata": {},
          "execution_count": 83
        }
      ]
    },
    {
      "cell_type": "code",
      "metadata": {
        "id": "qibaNyRYX7RJ",
        "colab": {
          "base_uri": "https://localhost:8080/",
          "height": 285
        },
        "outputId": "4e9ea28d-7aa6-4c98-e1d4-9112f08a5601"
      },
      "source": [
        "sb.set(style=\"dark\")\n",
        "pl1=sb.barplot(y=\"classifiers\",x=\"Accuracy\",data=table,palette=\"husl\",ec=\"black\")"
      ],
      "execution_count": 84,
      "outputs": [
        {
          "output_type": "display_data",
          "data": {
            "image/png": "[encoded data removed]",
            "text/plain": [
              "<Figure size 432x288 with 1 Axes>"
            ]
          },
          "metadata": {}
        }
      ]
    },
    {
      "cell_type": "code",
      "metadata": {
        "id": "sZGGteUyX-IS",
        "colab": {
          "base_uri": "https://localhost:8080/",
          "height": 285
        },
        "outputId": "29c6b52b-197c-4120-f41f-5d288b2a6379"
      },
      "source": [
        "pl1=sb.barplot(y=\"classifiers\",x=\"f-measure\",data=table,palette=\"husl\",ec=\"black\")"
      ],
      "execution_count": 85,
      "outputs": [
        {
          "output_type": "display_data",
          "data": {
            "image/png": "[encoded data removed]",
            "text/plain": [
              "<Figure size 432x288 with 1 Axes>"
            ]
          },
          "metadata": {}
        }
      ]
    },
    {
      "cell_type": "markdown",
      "metadata": {
        "id": "MO_fNVXQptML"
      },
      "source": [
        "**OBSERVATIONS:**\n",
        "\n",
        "1.Support Vector machine gives the highest accuracy and f-measure.\n",
        "\n",
        "2.Support Vector machine performs slightly better than Naiive Bayes. So, Naiive Bayes performs second best.\n",
        "\n",
        "3.Support Vector machine and Naiive Bayes also give high precisions and recalls.\n",
        "\n",
        "4.Out of vector-distance based and Decision tree, Decision tree performs better.\n",
        "\n",
        "5.Vector-distance based Spam Filter predicts a lot of actual spams as ham so we get low precision for ham and low recall for spam. That is why Vector-distance based spam filter lags behind.\n"
      ]
    }
  ]
}
